{
  "nbformat": 4,
  "nbformat_minor": 0,
  "metadata": {
    "colab": {
      "provenance": []
    },
    "kernelspec": {
      "name": "python3",
      "display_name": "Python 3"
    },
    "language_info": {
      "name": "python"
    }
  },
  "cells": [
    {
      "cell_type": "code",
      "execution_count": null,
      "metadata": {
        "colab": {
          "base_uri": "https://localhost:8080/"
        },
        "id": "cbyaEpF_j-w8",
        "outputId": "041edcb9-f736-4255-cc27-99ae0ba06af8"
      },
      "outputs": [
        {
          "output_type": "stream",
          "name": "stdout",
          "text": [
            "                                           File Name  Aggrement Value  \\\n",
            "0  6683127-House-Rental-Contract-GERALDINE-GALINA...             6500   \n",
            "1  6683129-House-Rental-Contract-Geraldine-Galina...             6500   \n",
            "2                        18325926-Rental-Agreement-1             4000   \n",
            "3                          24158401-Rental-Agreement            12000   \n",
            "4                          36199312-Rental-Agreement             3800   \n",
            "\n",
            "  Aggrement Start Date Aggrement End Date  Renewal Notice (Days)  \\\n",
            "0           20.05.2007         20.05.2008                   15.0   \n",
            "1           20.05.2007         20.05.2008                   15.0   \n",
            "2           05.12.2008         31.11.2009                   90.0   \n",
            "3           01.04.2008         31.03.2009                   60.0   \n",
            "4           01.05.2010         31.04.2011                   30.0   \n",
            "\n",
            "                                           Party One                 Party Two  \n",
            "0  Antonio Levy S. Ingles, Jr. and/or Mary Rose C...     GERALDINE Q. GALINATO  \n",
            "1  Antonio Levy S. Ingles, Jr. and/or Mary Rose C...     GERALDINE Q. GALINATO  \n",
            "2                                       MR.K.Kuttan   P.M. Narayana Namboodri   \n",
            "3                                         Hanumaiah           Vishal Bhardwaj   \n",
            "4                                          Balaji.R                 Kartheek R  \n",
            "                             File Name  Aggrement Value Aggrement Start Date  \\\n",
            "0            24158401-Rental-Agreement            12000           01.04.2008   \n",
            "1            95980236-Rental-Agreement             9000           01.04.2010   \n",
            "2  156155545-Rental-Agreement-Kns-Home            12000           15.12.2012   \n",
            "3           228094620-Rental-Agreement            15000           07.07.2013   \n",
            "\n",
            "  Aggrement End Date  Renewal Notice (Days)         Party One  \\\n",
            "0         31.03.2009                     60        Hanumaiah    \n",
            "1         31.03.2011                     30      S.Sakunthala   \n",
            "2         14.11.2013                     30      V.K.NATARAJ    \n",
            "3         06.06.2014                     30   KAPIL MEHROTRA    \n",
            "\n",
            "                                  Party Two  \n",
            "0                          Vishal Bhardwaj   \n",
            "1                             V.V.Ravi Kian  \n",
            "2   VYSHNAVI DAIRY SPECIALITIES Private Ltd  \n",
            "3                               .B.Kishore   \n"
          ]
        }
      ],
      "source": [
        "# STEP1: DATA PROCESSING\n",
        "import pandas as pd\n",
        "\n",
        "# Load train and test data\n",
        "train_df = pd.read_csv(\"train.csv\")\n",
        "test_df = pd.read_csv(\"test.csv\")\n",
        "\n",
        "# Check the structure of the data\n",
        "print(train_df.head())\n",
        "print(test_df.head())\n"
      ]
    },
    {
      "cell_type": "code",
      "source": [],
      "metadata": {
        "id": "rKsTZku4i3Y5"
      },
      "execution_count": null,
      "outputs": []
    },
    {
      "cell_type": "code",
      "execution_count": null,
      "metadata": {
        "colab": {
          "base_uri": "https://localhost:8080/"
        },
        "id": "GQ18Kd5F3uKe",
        "outputId": "74dea477-a17b-4346-c053-c68fc82b3bb2"
      },
      "outputs": [
        {
          "output_type": "stream",
          "name": "stdout",
          "text": [
            "Requirement already satisfied: matplotlib-venn in /usr/local/lib/python3.10/dist-packages (0.11.10)\n",
            "Requirement already satisfied: matplotlib in /usr/local/lib/python3.10/dist-packages (from matplotlib-venn) (3.7.1)\n",
            "Requirement already satisfied: numpy in /usr/local/lib/python3.10/dist-packages (from matplotlib-venn) (1.25.2)\n",
            "Requirement already satisfied: scipy in /usr/local/lib/python3.10/dist-packages (from matplotlib-venn) (1.11.4)\n",
            "Requirement already satisfied: contourpy>=1.0.1 in /usr/local/lib/python3.10/dist-packages (from matplotlib->matplotlib-venn) (1.2.0)\n",
            "Requirement already satisfied: cycler>=0.10 in /usr/local/lib/python3.10/dist-packages (from matplotlib->matplotlib-venn) (0.12.1)\n",
            "Requirement already satisfied: fonttools>=4.22.0 in /usr/local/lib/python3.10/dist-packages (from matplotlib->matplotlib-venn) (4.49.0)\n",
            "Requirement already satisfied: kiwisolver>=1.0.1 in /usr/local/lib/python3.10/dist-packages (from matplotlib->matplotlib-venn) (1.4.5)\n",
            "Requirement already satisfied: packaging>=20.0 in /usr/local/lib/python3.10/dist-packages (from matplotlib->matplotlib-venn) (23.2)\n",
            "Requirement already satisfied: pillow>=6.2.0 in /usr/local/lib/python3.10/dist-packages (from matplotlib->matplotlib-venn) (9.4.0)\n",
            "Requirement already satisfied: pyparsing>=2.3.1 in /usr/local/lib/python3.10/dist-packages (from matplotlib->matplotlib-venn) (3.1.1)\n",
            "Requirement already satisfied: python-dateutil>=2.7 in /usr/local/lib/python3.10/dist-packages (from matplotlib->matplotlib-venn) (2.8.2)\n",
            "Requirement already satisfied: six>=1.5 in /usr/local/lib/python3.10/dist-packages (from python-dateutil>=2.7->matplotlib->matplotlib-venn) (1.16.0)\n",
            "\u001b[33mWARNING: Running pip as the 'root' user can result in broken permissions and conflicting behaviour with the system package manager. It is recommended to use a virtual environment instead: https://pip.pypa.io/warnings/venv\u001b[0m\u001b[33m\n",
            "\u001b[0m"
          ]
        }
      ],
      "source": [
        "!pip install matplotlib-venn"
      ]
    },
    {
      "cell_type": "code",
      "source": [
        "# https://pypi.python.org/pypi/pydot\n",
        "!apt-get -qq install -y graphviz && pip install pydot\n",
        "import pydot"
      ],
      "metadata": {
        "colab": {
          "base_uri": "https://localhost:8080/"
        },
        "id": "UtahmndKj-Vb",
        "outputId": "0dabf286-c048-47ca-dd16-12ad51bf290f"
      },
      "execution_count": null,
      "outputs": [
        {
          "output_type": "stream",
          "name": "stdout",
          "text": [
            "Requirement already satisfied: pydot in /usr/local/lib/python3.10/dist-packages (1.4.2)\n",
            "Requirement already satisfied: pyparsing>=2.1.4 in /usr/local/lib/python3.10/dist-packages (from pydot) (3.1.1)\n",
            "\u001b[33mWARNING: Running pip as the 'root' user can result in broken permissions and conflicting behaviour with the system package manager. It is recommended to use a virtual environment instead: https://pip.pypa.io/warnings/venv\u001b[0m\u001b[33m\n",
            "\u001b[0m"
          ]
        }
      ]
    },
    {
      "cell_type": "code",
      "execution_count": null,
      "metadata": {
        "id": "Zq68DSY2rP2W",
        "colab": {
          "base_uri": "https://localhost:8080/"
        },
        "outputId": "fd31d251-45b4-4738-d22e-9162f4e163a6"
      },
      "outputs": [
        {
          "output_type": "stream",
          "name": "stdout",
          "text": [
            "Requirement already satisfied: cartopy in /usr/local/lib/python3.10/dist-packages (0.22.0)\n",
            "Requirement already satisfied: numpy>=1.21 in /usr/local/lib/python3.10/dist-packages (from cartopy) (1.25.2)\n",
            "Requirement already satisfied: matplotlib>=3.4 in /usr/local/lib/python3.10/dist-packages (from cartopy) (3.7.1)\n",
            "Requirement already satisfied: shapely>=1.7 in /usr/local/lib/python3.10/dist-packages (from cartopy) (2.0.3)\n",
            "Requirement already satisfied: packaging>=20 in /usr/local/lib/python3.10/dist-packages (from cartopy) (23.2)\n",
            "Requirement already satisfied: pyshp>=2.1 in /usr/local/lib/python3.10/dist-packages (from cartopy) (2.3.1)\n",
            "Requirement already satisfied: pyproj>=3.1.0 in /usr/local/lib/python3.10/dist-packages (from cartopy) (3.6.1)\n",
            "Requirement already satisfied: contourpy>=1.0.1 in /usr/local/lib/python3.10/dist-packages (from matplotlib>=3.4->cartopy) (1.2.0)\n",
            "Requirement already satisfied: cycler>=0.10 in /usr/local/lib/python3.10/dist-packages (from matplotlib>=3.4->cartopy) (0.12.1)\n",
            "Requirement already satisfied: fonttools>=4.22.0 in /usr/local/lib/python3.10/dist-packages (from matplotlib>=3.4->cartopy) (4.49.0)\n",
            "Requirement already satisfied: kiwisolver>=1.0.1 in /usr/local/lib/python3.10/dist-packages (from matplotlib>=3.4->cartopy) (1.4.5)\n",
            "Requirement already satisfied: pillow>=6.2.0 in /usr/local/lib/python3.10/dist-packages (from matplotlib>=3.4->cartopy) (9.4.0)\n",
            "Requirement already satisfied: pyparsing>=2.3.1 in /usr/local/lib/python3.10/dist-packages (from matplotlib>=3.4->cartopy) (3.1.1)\n",
            "Requirement already satisfied: python-dateutil>=2.7 in /usr/local/lib/python3.10/dist-packages (from matplotlib>=3.4->cartopy) (2.8.2)\n",
            "Requirement already satisfied: certifi in /usr/local/lib/python3.10/dist-packages (from pyproj>=3.1.0->cartopy) (2024.2.2)\n",
            "Requirement already satisfied: six>=1.5 in /usr/local/lib/python3.10/dist-packages (from python-dateutil>=2.7->matplotlib>=3.4->cartopy) (1.16.0)\n",
            "\u001b[33mWARNING: Running pip as the 'root' user can result in broken permissions and conflicting behaviour with the system package manager. It is recommended to use a virtual environment instead: https://pip.pypa.io/warnings/venv\u001b[0m\u001b[33m\n",
            "\u001b[0m"
          ]
        }
      ],
      "source": [
        "!pip install cartopy\n",
        "import cartopy"
      ]
    },
    {
      "cell_type": "code",
      "source": [
        "# STEP2: TEXT EXTRACTION AND IMAGE EXTRACTION\n",
        "!pip install python-docx\n",
        "\n",
        "from docx import Document\n",
        "\n",
        "def extract_text_from_docx(file_path):\n",
        "    doc = Document('/content/156155545-Rental-Agreement-Kns-Home.pdf.docx')\n",
        "    text_content = []\n",
        "    for paragraph in doc.paragraphs:\n",
        "        text_content.append(paragraph.text)\n",
        "    return ' '.join(text_content)\n",
        "\n",
        "# Example usage:\n",
        "text_file_path = 'path/to/text_document.docx'\n",
        "text_content = extract_text_from_docx(text_file_path)\n",
        "print(text_content)\n"
      ],
      "metadata": {
        "colab": {
          "base_uri": "https://localhost:8080/"
        },
        "id": "28D0xTjRibk3",
        "outputId": "54caae34-4324-478c-bd88-4bd0cadfa18d"
      },
      "execution_count": null,
      "outputs": [
        {
          "output_type": "stream",
          "name": "stdout",
          "text": [
            "Requirement already satisfied: python-docx in /usr/local/lib/python3.10/dist-packages (1.1.0)\n",
            "Requirement already satisfied: lxml>=3.1.0 in /usr/local/lib/python3.10/dist-packages (from python-docx) (4.9.4)\n",
            "Requirement already satisfied: typing-extensions in /usr/local/lib/python3.10/dist-packages (from python-docx) (4.10.0)\n",
            "\u001b[33mWARNING: Running pip as the 'root' user can result in broken permissions and conflicting behaviour with the system package manager. It is recommended to use a virtual environment instead: https://pip.pypa.io/warnings/venv\u001b[0m\u001b[33m\n",
            "\u001b[0mRENTAL AGREEMENT This deed of rental agreement is made on this day the 15th of December 2012 between V.K.NATARAJ , son of V.KANDASWAMI CHETTIAR aged 55 years residing at Door No - 5/8, \"F\" TYPE, 4th MAIN ROAD, SIDCO NAGAR, VILLIVAKKAM, CHENNAI-600049, hereinafter called the \"LESSOR\". AND SRI VYSHNAVI DAIRY SPECIALITIES Private Ltd., a company registered under the companies Act 1956, having its registered office at 170/IB, M.G.R. Nagar, Manapakkam Village Chennai and Corporate Office at No.12/7, Sidco Nagar, Villivakkam Chennai - 600049 Represented by its Chairman Mr. RAJESH CHAVDA S/0. MANSHUK LAL CHAVDA, aged about 56 years, hereinafter called the \"LESSEE\". Whereas LESSOR is the sole absolute owner of the land and building bearing door no 5/8, \"F\" TYPE, 4th MAIN ROAD, SIDCO NAGAR, VILLIVAKKAM, CHENNAI-600049. Whereas both the lessor and lessee agree to the following terms and conditions NOW THIS DEED OF LEASE WITHNESSETH AS FOLLOWS HERE:- The lessee agrees to pay a rent of Rs.12, OOO (Rupees Twelve Thousand only) on or before of 5th day of every English calendar month. An amount of Rs.80,000(Rupees Eighty Thousand only) as advance shall be deposited by the lessee without interest, which is refundable at the time of the lessee delivering vacant possession after deducting the dues if any towards monthly rents electricity charges and damages. It is mutually understood that the lease of this above said premises is intended for residential purpose of SRI VYSHNAVI DAIRY SPECIALITIES Pvt Ltd, represented by authorized signatory Mr. RAJESH CHAVDA residing at 12/7, Sidco Nagar, Villivakkam, Chennai - 600049. The Lessee shall not sublet the flat to anyone and also shall not use for any illegal or immoral purpose. The lessee shall maintain the premises, fittings and fixtures etc., in good condition. The Lessor on his part shall arrange to the paintings of the above said premises once in three years. Day to day minor repairs such as fuse, electrical fittings and bulbs, leakage of water pipes etc., shall be carried out by the Lessee at his own cost. Major repair such as leakage in electricity, water pipes, cracks etc., shall be done by the Lessor at his own cost. The Lessee agrees to pay the electricity consumption charges as per the meter directly to the Tamil Nadu Electricity Board. The Lessee agrees to pay any additional deposit or any charges demanded by the Tamil Nadu Electricity Board on any account whatsoever in respect of the demised premises. The Lessee agrees not to sublet, alter or assign the demised premises either as a whole or in parts to any other persons without the consent of the Lessor in writing. On termination of the term of this agreement, the Lessee guarantees to hand over vacant possession to the said premises, fittings etc., to the Lessor in the same conditions handed over to him, subject to normal wear and tear. The Lessor shall pay all taxes and duties etc., payable to the Government and local bodies in respect of the said premises including the maintenance / service if any due to the default. And whereas the lessor or his Subordinates or agents is at full liberty to inspect the rented premises at any reasonable hours. The Lease shall be for a period of ll(eleven) months from the date of this agreement, but it can be extended by mutual consent. The rent shall be enhanced once in every 11 months @ 10% over the existing rent. The Lessor and the Lessee agree to give one month notice for terminating the lease on either side. SCHEDULE First floor, Door No - 5/8, \"F\" TYPE, 4th MAIN ROAD, SIDCO NAGAR, VILLIVAKKAM, CHENNAI-49. Consisting of 2 bed rooms with attached bathroom, large hall, kitchen, pooja room, dining hall and balcony. AMENTITES The tenant shall return the following articles and fixtures to the landlord after the expiry of tenancy or at the time of vacates the portion let out to the tenant. Tube light set - 8 Nos., Bulbs - 25 Nos., Calling Bell - 2 Nos., Set of keys - 9 Set (9*2 = 18 numbers). Front gate key - 1 No., IN WITHNESSES WHEROF the parties affix their signature hereunder on this. V.K.NATARAJ WITNESSES: (LESSOR) For SRI VYSHNAVI DAIRY SPECIALITIES Pvt., Ltd., Authorized signatory\n",
            "(LESSEE)\n"
          ]
        }
      ]
    },
    {
      "cell_type": "code",
      "source": [
        "!pip install python-docx\n",
        "\n",
        "from docx import Document\n",
        "\n",
        "def extract_text_from_docx(file_path):\n",
        "    doc = Document('/content/228094620-Rental-Agreement.pdf.docx')\n",
        "    text_content = []\n",
        "    for paragraph in doc.paragraphs:\n",
        "        text_content.append(paragraph.text)\n",
        "    return ' '.join(text_content)\n",
        "\n",
        "# Example usage:\n",
        "text_file_path = 'path/to/text_document.docx'\n",
        "text_content = extract_text_from_docx(text_file_path)\n",
        "print(text_content)\n"
      ],
      "metadata": {
        "id": "lYVMkA-zkm5q",
        "colab": {
          "base_uri": "https://localhost:8080/"
        },
        "outputId": "9c4d5996-2247-424c-c028-8e6730d3289f"
      },
      "execution_count": null,
      "outputs": [
        {
          "output_type": "stream",
          "name": "stdout",
          "text": [
            "Requirement already satisfied: python-docx in /usr/local/lib/python3.10/dist-packages (1.1.0)\n",
            "Requirement already satisfied: lxml>=3.1.0 in /usr/local/lib/python3.10/dist-packages (from python-docx) (4.9.4)\n",
            "Requirement already satisfied: typing-extensions in /usr/local/lib/python3.10/dist-packages (from python-docx) (4.10.0)\n",
            "\u001b[33mWARNING: Running pip as the 'root' user can result in broken permissions and conflicting behaviour with the system package manager. It is recommended to use a virtual environment instead: https://pip.pypa.io/warnings/venv\u001b[0m\u001b[33m\n",
            "\u001b[0mRENTAL AGREEMENT This Rental Agreement is made and executed on this the 2ndth day of July, 2013 at Hyderabad, A.P. by and between: Mr. KAPIL MEHROTRA aged about 38 years, Owner of Plot.No.566-569, Flat.No.303, Shasank Rose Mount Apartment, Kavya Avenue Layout, Bachupally, Hyderabad, Ranga Reddy District-500090, and Andhra Pradesh. (Hereinafter called the House “OWNER” which term shall mean and include all his/her heirs, representatives, successors, administrators, etc., of the First Party) AND Mr.B.Kishore , S/o. Mr. B. Pampaiah , aged about 31 years, R/o House no 46-107 A, 46-266, Nundy 46-365 , Budhwarpet 46-263, Kumool, Andhra Pradesh & Plot no 22 , House no 50 / 760 A - 23 Gayathri enclave , Devanagar, Kurnool, A.P (Hereinafter called the “TENANT” which term shall mean and include all his/her heirs,, successors, etc., of the Second Party) Whereas the Owner let out the house premises Plot.No.566-569, Flat.No.303, Shashank Rose Mount Apartment, Kavya Avenue Layout, Bachupally, Hyderabad, Ranga Reddy District- 500090, Andhra Pradesh.to the tenant for Residential purpose on a monthly rent of Rs. 15,000.00 (Rupees Fifteen Thousand Only). Subject to the Terms and Conditions laid down hereunder: As discussed over the phone the tenant shall pay an advance equivalent to 11 months’ rent amounting to rupees 165000.00 (one lakh sixty five thousand Rupees Only) to the OWNER by 4th of July 2013. The tenant will reside there as a family and will not create any disturbance to the neighbors’ and society. The Marital status of tenant should not remain as bachelor after 31st July 2013 or else the tenant will have to vacate the premises by 10th of August 2013 without claiming any refund of the advance rent paid to the owner. The term of rental agreement is for a period of 11 months with effect from 7st July, 2013 to 6th June, 2014 with an option for renewal of the same by mutual consent with an increase in rent by 10%. That the tenant has deposited an interest free amount of Rs.45, 000-00 (Rupees Forty five Thousand Only) as Security Deposit and interest free amount of Rs.165, 000/-(one lakh sixty five thousand Rupees Only) as eleven month’s advance rent to the Owner by way of cash / Cheque/ online bank transfer. The security deposit is refundable at the time of expiry of the above said period of Tenancy and deducting of adjustments if any. The Tenant shall bear the electricity charges, water charges, apartment maintenance charges, minor repairs and other charges if any. The Tenant shall keep the premises in neat and tidy condition. The Tenant shall not make material alterations in the Flat during the term of lease without the written consent of the OWNER. The Tenant shall not sub-let the leased premises. The OWNER or his agents can inspect the premises during reasonable times for which the Tenant shall not have any objection. Advance rent will not be refundable if the tenant decided to leave the flat and terminate the lease agreement before 6th June 2014 i.e. completion of eleven months. The tenant will have to vacate the flat with one months notice if found causing damage intentionally / deliberately to the property or the furniture’s and fixtures listed in point 16 without refund of any deposit or advance rent. The tenant will have to vacate the flat immediately if found indulging in any criminal offence or summoned by the court/ police for any criminal activity. This rental agreement may be renewed and the rent will be increased by 10% by mutual consent of both the parties. The tenant will use all the electronic equipment and furniture as mentioned in point 16 and provided to him carefully and will get them serviced timely at his own expense. Furniture, Fittings & Fixtures: The tenant to use and after expiry of the lease to hand over the amenities mentioned below, which are handed to the tenant in good AND WORKING condition. Ceiling Fans- 5 Tube Lights - 3 CFL-4 Exhaust fans- 3 AC Samsung 1.5 tonne with remote- 1 AC Voltas 1.5 tonne with remote-1 Water Taps - 5 Sofa set - (lbig +2 small) Sofa set in another room ( set of 2) 2 Centre table with glass top 6 seater dining table with glass top. Inverter with 1 battery and trolley Wooden wardrobes with mirrors Dressing table with Mirror-1 Large double bed cot with box storage space and Mattress with 2 Side drawer 2 Large single bed with 2 mattress and Side drawer Shower Panel-1 Electric Geyser-1 Glass wash basin - 2 Regular wash basin 1 Modular kitchen cabinets Washing machine Samsung INDANE government Gas cylinder 2 with regulator and gas pipe Cooking stove 1 Dish TV set top box with parabola, cable and remote 1 Motorized Tread mill Refrigerator 165 liters L.G Microwave LCD TV Samsung The above accessories will be handed over to the owner by the tenant after the expiry of the lease, if any damages occur due to negligence of the tenant; the same shall be deducted from the security deposit. IN WITNESS WHEREOF, both the parties have subscribed their signatures to this Indenture on the day, month and year mentioned above. WITNESSES: OWNER TENANT\n"
          ]
        }
      ]
    },
    {
      "cell_type": "code",
      "source": [
        "import cv2\n",
        "\n",
        "def extract_features_from_image(file_path):\n",
        "    image = cv2.imread('/content/24158401-Rental-Agreement.png')\n",
        "    # Perform image preprocessing and feature extraction\n",
        "    # Example: Convert image to grayscale and resize\n",
        "    grayscale_image = cv2.cvtColor(image, cv2.COLOR_BGR2GRAY)\n",
        "    resized_image = cv2.resize(grayscale_image, (224, 224))  # Example size\n",
        "\n",
        "    return resized_image\n",
        "\n",
        "# Example usage:\n",
        "image_file_path = 'path/to/image_document.png'\n",
        "image_features = extract_features_from_image(image_file_path)\n",
        "print(image_features.shape)  # Print shape of the extracted image features\n"
      ],
      "metadata": {
        "colab": {
          "base_uri": "https://localhost:8080/"
        },
        "id": "OfHXlBshqjMK",
        "outputId": "44e19c6d-afec-4ce3-83fd-7312d10cce45"
      },
      "execution_count": null,
      "outputs": [
        {
          "output_type": "stream",
          "name": "stdout",
          "text": [
            "(224, 224)\n"
          ]
        }
      ]
    },
    {
      "cell_type": "code",
      "source": [
        "import cv2\n",
        "\n",
        "def extract_features_from_image(file_path):\n",
        "    image = cv2.imread('/content/95980236-Rental-Agreement.png')\n",
        "    # Perform image preprocessing and feature extraction\n",
        "    # Example: Convert image to grayscale and resize\n",
        "    grayscale_image = cv2.cvtColor(image, cv2.COLOR_BGR2GRAY)\n",
        "    resized_image = cv2.resize(grayscale_image, (224, 224))  # Example size\n",
        "\n",
        "    return resized_image\n",
        "\n",
        "# Example usage:\n",
        "image_file_path = 'path/to/image_document.png'\n",
        "image_features = extract_features_from_image(image_file_path)\n",
        "print(image_features.shape)  # Print shape of the extracted image features"
      ],
      "metadata": {
        "colab": {
          "base_uri": "https://localhost:8080/"
        },
        "id": "snYa101oq1mv",
        "outputId": "6b4635df-cf60-4814-d4a5-4cdf806753ab"
      },
      "execution_count": null,
      "outputs": [
        {
          "output_type": "stream",
          "name": "stdout",
          "text": [
            "(224, 224)\n"
          ]
        }
      ]
    },
    {
      "cell_type": "code",
      "source": [
        "!pip install python-docx\n",
        "\n",
        "from docx import Document\n",
        "\n",
        "def extract_text_from_docx(file_path):\n",
        "    doc = Document('/content/6683127-House-Rental-Contract-GERALDINE-GALINATO-v2-Page-1.docx')\n",
        "    text_content = []\n",
        "    for paragraph in doc.paragraphs:\n",
        "        text_content.append(paragraph.text)\n",
        "    return ' '.join(text_content)\n",
        "\n",
        "# Example usage:\n",
        "text_file_path = 'path/to/text_document.docx'\n",
        "text_content = extract_text_from_docx(text_file_path)\n",
        "print(text_content)\n"
      ],
      "metadata": {
        "colab": {
          "base_uri": "https://localhost:8080/"
        },
        "outputId": "53495891-2ed8-4d32-fc8d-f61019a639cd",
        "id": "8iqSM_XcrkSp"
      },
      "execution_count": null,
      "outputs": [
        {
          "output_type": "stream",
          "name": "stdout",
          "text": [
            "Requirement already satisfied: python-docx in /usr/local/lib/python3.10/dist-packages (1.1.0)\n",
            "Requirement already satisfied: lxml>=3.1.0 in /usr/local/lib/python3.10/dist-packages (from python-docx) (4.9.4)\n",
            "Requirement already satisfied: typing-extensions in /usr/local/lib/python3.10/dist-packages (from python-docx) (4.10.0)\n",
            "\u001b[33mWARNING: Running pip as the 'root' user can result in broken permissions and conflicting behaviour with the system package manager. It is recommended to use a virtual environment instead: https://pip.pypa.io/warnings/venv\u001b[0m\u001b[33m\n",
            "\u001b[0mHouse Rental Contract KNOWN ALL MEN BY THESE PRESENTS: This House Rental Contract, made and entered into this 20th day of May 2007 at Manila by and between: Antonio Levy S. Ingles. Jr. and/or Mary Rose C. Ingles, of legal age, with residence and postal address at Unit 2006 EGI Taft Tower 2339 Taft Avenue, Malate, Manila, And herein referred to as the Owner(s), — And — GERALDINE O. GALINATO. of legal age, with residence and postal address at 6 Manganese Road, Pilar Village, Las Pinas, Metro Manila, And herein referred to as the Resident(s), WITNESSETH: In consideration of the agreements of the Resident(s), known as: GERALDINE O. GALINATO. the Owner(s), known as: Antonio Levy S. Ingles. Jr. and/or Mary Rose C. Ingles, hereby rent their the dwelling/house located at Lot 6, Block 20, Royal South Townhomes, Marcos Alvarez Avenue, Talon 5, Las Pinas City, Metro Manila for the period commencing on the 20th day of May, 2007, and monthly thereafter until the 20th day of May, 2008, at which time this Agreement is terminated. Resident(s), in consideration of Owner(s) permitting them to occupy the above property, hereby agrees to the following terms: RENT: To pay as rental the sum of SIX THOUSAND FIVE HUNDRED PESOS IP 6.500.001 per month, due and payable in advance from the 20th day of every month. FAILURE TO PAY ON TIME: Failure to pay the rent will result in being served a Notice to End Residential Tenancy. This Notice may be served if you have an outstanding balance from failure to pay your rent. This Notice may also be served from being habitually late in paying your rent regardless of the balance owed. Once the Notice to End Residential Tenancy is received, you will have a prescribed time to pay all of the amount overdue on your rent. A three-dav grace period will be allowed for late payment. Failure to pay the monthly rental within the grace period is subject to FIVE (5%) PERCENT interest per month of delay as penalty. Habitual failure of the Resident(s) to pay within the prescribed time shall result in the Owner(s) taking immediate legal action to evict the Resident(s) from the premises and seize the security deposit. SECURITY DEPOSIT: Resident(s) agrees to pay a deposit in the amount of SIX THOUSAND FIVE HUNDRED PESOS (P 6.500.001 to secure Resident(s)’s pledge of full compliance with the terms of this agreement. Note: THE DEPOSIT MAY NOT BE USED BY TENANT TO PAY THE RENT DURING THE TENANCY. The security deposit will be used at the end of the tenancy to compensate the Owner(s) for any damages or unpaid rent or charges, and will be repaired or replaced at Resident(s)’s expense with funds other than the deposit. METHOD OF PAYMENT: The initial advance payment of rent and deposit under this contract be PAID IN CASH at least 7 days before the date of moving-in. Thereafter, monthly rent payments must be paid by POST DATED CHECKS payable to ANTONIO LEVY S. INGLES. JR. until a first check is dishonored and returned unpaid. Regardless of cause, no other additional payments may afterwards be made by check. Checks returned will not be redeposited. The Resident(s) will be notified by a 3 day notice, and will be required to pay the amount due in cash.\n"
          ]
        }
      ]
    },
    {
      "cell_type": "code",
      "source": [
        "!pip install python-docx\n",
        "\n",
        "from docx import Document\n",
        "\n",
        "def extract_text_from_docx(file_path):\n",
        "    doc = Document('/content/6683129-House-Rental-Contract-Geraldine-Galinato-v2.docx')\n",
        "    text_content = []\n",
        "    for paragraph in doc.paragraphs:\n",
        "        text_content.append(paragraph.text)\n",
        "    return ' '.join(text_content)\n",
        "\n",
        "# Example usage:\n",
        "text_file_path = 'path/to/text_document.docx'\n",
        "text_content = extract_text_from_docx(text_file_path)\n",
        "print(text_content)"
      ],
      "metadata": {
        "colab": {
          "base_uri": "https://localhost:8080/"
        },
        "id": "NSCrj-LasL2P",
        "outputId": "00321e7a-3e8d-400d-94cb-5e9c01fee5e9"
      },
      "execution_count": null,
      "outputs": [
        {
          "output_type": "stream",
          "name": "stdout",
          "text": [
            "Requirement already satisfied: python-docx in /usr/local/lib/python3.10/dist-packages (1.1.0)\n",
            "Requirement already satisfied: lxml>=3.1.0 in /usr/local/lib/python3.10/dist-packages (from python-docx) (4.9.4)\n",
            "Requirement already satisfied: typing-extensions in /usr/local/lib/python3.10/dist-packages (from python-docx) (4.10.0)\n",
            "\u001b[33mWARNING: Running pip as the 'root' user can result in broken permissions and conflicting behaviour with the system package manager. It is recommended to use a virtual environment instead: https://pip.pypa.io/warnings/venv\u001b[0m\u001b[33m\n",
            "\u001b[0m     House Rental Contract KNOWN ALL MEN BY THESE PRESENTS: This House Rental Contract, made and entered into this 20th day of May 2007 at Manila by and between: Antonio Levy S. Ingles. Jr. and/or Mary Rose C. Ingles, of legal age, with residence and postal address at Unit 2006 EGI Taft Tower 2339 Taft Avenue, Malate, Manila, And herein referred to as the Owner(s), — And — GERALDINE O. GALINATO of legal age, with residence and postal address at 6 Manganese Road, Pilar Village, Las Pinas, Metro Manila, And herein referred to as the Resident(s), WITNESSETH: In consideration of the agreements of the Resident(s), known as: GERALDINE O. GALINATO. the Owner(s), known as: Antonio Levy S. Ingles. Jr. and/or Mary Rose C. Ingles, hereby rent their the dwelling/house located at Lot 6, Block 20, Royal South Townhomes, Marcos Alvarez Avenue, Talon 5, Las Pinas City, Metro Manila for the period commencing on the 20th day of May, 2007, and monthly thereafter until the 20th day of May, 2008, at which time this Agreement is terminated. Resident(s), in consideration of Owner(s) permitting them to occupy the above property, hereby agrees to the following terms: RENT: To pay as rental the sum of SIX THOUSAND FIVE HUNDRED PESOS IP 6.500.001 per month, due and payable in advance from the 20th day of every month. FAILURE TO PAY ON TIME: Failure to pay the rent will result in being served a Notice to End Residential Tenancy. This Notice may be served if the Resident(s) has an outstanding balance from failure to pay the rent. This Notice may also be served from being habitually late in paying the rent regardless of the balance owed. Once the Notice to End Residential Tenancy is received, the Resident(s) will have a prescribed time to pay all of the amount overdue on the rent. A three-dav grace period will be allowed for late payment However, failure to pay the monthly rental within the grace period is subject to FIVE (5%) PERCENT interest per month of delay as penalty. Habitual failure of the Resident(s) to pay within the prescribed time shall result in the Owner(s) taking immediate legal action to evict the Resident(s) from the premises and seize the security deposit. SECURITY DEPOSIT: Resident(s) agrees to pay a deposit in the amount of SIX THOUSAND FIVE HUNDRED PESOS IP 6.500.001 to secure Resident(s)’s pledge of full compliance with the terms of this agreement. Note: THE DEPOSIT MAY NOT BE USED BY TENANT TO PAY THE RENT DURING THE TENANCY. The security deposit will be used at the end of the tenancy to compensate the Owner(s) for any damages or unpaid rent or charges, and will be repaired or replaced at Resident(s)’s expense with funds other than the deposit. METHOD OF PAYMENT: The initial advance payment of rent and deposit under this contract be PAID IN CASH at least 7 days before the date of moving-in. Thereafter, monthly rent payments must be paid by POST DATED CHECKS payable to ANTONIO LEVY S. INGLES. JR. until a first check is dishonored and returned unpaid. Regardless of cause, no other additional payments may afterwards be made by check. Checks returned will not be redeposited. The Resident(s) will be notified by a 3 day notice, and will be required to pay the amount due in cash. SCHEDULE OF PAYMENT:   SUBLETTING: Without first requesting permission from the Owner(s), Resident(s) agrees not to assign this agreement, nor to sub-let any part of the property, nor to allow any other person to live therein other than the following: Surname, Name of the Resident:\t Surname, Name:\t Relation to the Resident:\t Surname, Name:\t Relation to the Resident:\t Surname, Name:\t Relation to the Resident:\t Surname, Name:\t Relation to the Resident:\t Surname, Name:\t Relation to the Resident:\t Further, that covenants contained in the House Rental Contract, once breached, cannot afterward be performed; and that eviction proceedings may be commenced at once without notice. OWNER’S STATEMENTS: All rights given to the Owner(s) by this agreement shall be cumulative in addition to any other laws which might exist or come into being. Any exercise or failure to exercise, by the Owner(s) of any right shall not act as a waiver of any other rights. No statement or promise of Owner(s) as to tenancy, repairs, alternations, or other terms and conditions shall be binding unless specified in writing and specifically endorsed. COURT COSTS: This agreement shall be governed by the laws of the Republic of the Philippines. In the event that any portion of this agreement shall be found to be unsupportable under the law, the remaining provisions shall continue to be valid and subject to enforcement in the courts without exception. DEFAULT BY RESIDENT: Any breach or violation of any provision of this agreement by Resident(s) or any untrue or misleading information in Resident(s)’s application shall give the Owner(s) the right to terminate this contract, evict the Resident(s) and to take possession of the residence. The Resident(s) agrees to a forfeiture of the security deposit and Owner(s) may still purse any remaining amounts due and owing. 9. ACCEPTANCE OF PROPERTY: Resident(s) accepts the \"AS IS\" condition of the property, waiving inspection of same by Owner(s) and agrees to notify Owner(s) of any defects. Resident(s) further agrees to indemnify or assure Owner(s) against any loss or liability arising out of Resident(s)’s use of the property. MAINTENANCE: Resident(s) agrees to maintain the premises during the period of this agreement. This includes woodwork, ceilings, walls, floors, furnishings and fixtures, appliances, windows, screens doors, fences, plumbing, electrical, and mechanical systems. Tacks, nails, or other objects nailed or screwed into the walls or ceilings or floors will be removed at the termination of this agreement. Damage caused by tacks, nails, or other objects nailed or screwed into the ceilings or walls or floors; damage caused by rain and wind as a result of leaving windows or doors open, or damage caused by overflow of water, or stoppage of waste pipes, breakage of glass, and damage to screens, whether caused by abuse or neglect is the responsibility of the Resident(s). RESIDENT’S OBLIGATIONS: The Residents) agrees to meet all of Resident(s)’s obligations; including: Taking affirmative action to insure that nothing exists which might piace the Owner(s) in violation of applicable building, housing and health codes. Keeping the dwelling/house clean, and sanitary; removing garbage and trash as they accumulate; maintaining plumbing in good working order to prevent stoppages and or leakage of plumbing, fixtures, faucets, pipes, etc. Operate all electrical, plumbing, sanitary, and other appliances in a reasonable and safe manner. Assuring that property belonging to the Owncr(s) is safeguarded against damage, destruction, loss, removal, or theft. Conducting him/herself, his/her family, friends, guests and visitors in a manner which will not disturb others. Resident(s) warrants that he/she will meet the above conditions in every respect, and acknowledges that failure to do so will be grounds for termination of this agreement and loss of all deposits without further recourse. CLEANING: Resident(s) accepts premises in its current state of cleanliness and agrees to return it in a like condition. REMOVAL OF PROPERTY: Resident(s) agrees not to remove or alter in any way Owner(s)’s property without first requesting permission from the Owner(s). Any removal or alteration of Owner(s)’s property without permission shall constitute abandonment and surrender of the premises, and termination by the tenant of this agreement Owner(s) may take immediate possession and exclude Resident(s) from the property, storing all Resident(s) possessions at Resident(s)’s expense pending reimbursement in full for Owner(s)’s loss and damages. REPAIRS: The Resident(s) should contact the Owner(s) for emergencies or for urgent and major repairs. In the event repairs are needed beyond the competence of the Resident(s), he/she is urged to arrange for professional assistance. Any improvement made by the tenant shall become the property of the Owner(s) at the conclusion of this agreement. UTILITIES: Resident(s) shall be responsible for payments of all utilities, electricity, water and sewer charges, association dues, telephone or other bills incurred during their residency. They specifically authorize the Owner(s) to deduct amounts of unpaid bills from their deposits in the event they remain unpaid after the termination of this agreement. PHONE: Resident(s) may install and maintain telephone service, and agrees to furnish to the owner the phone number, and any changes, within 3 days after installation. VEHICLES: Resident(s) agrees to park ONLY ON THE PAVED DRIVEWAY PROVIDED his/her automobile described as follows: Resident(s) agrees that no vehicle may be repaired in the paved driveway. PETS: The Resident(s) specifically understands and agrees: No pet which is attacked-trained or vicious, with a history of biting people or other animals, or of property damage will be kept on the premises; That the Resident(s) is solely responsible for any and all damage to the Owner(s)’s property including, but not limited to the premises, blinds, wall, furnishings and appliances; That in a like manner, he/she is responsible for any and all damage or loss to persons or property of others caused by the Resident(s)’s pet(s) and in this regard does hereby agree to hold the Owner(s) harmless for any such damage; That all pet(s) should be maintained in a humane and lawful manner; That all pet waste shall be removed and disposed of promptly, including waste in neighbor’s yards distributed by Resident(s)’s pets; That all pets shall be maintained so as to not cause annoyance to others. RESIDENT’S ABANDONMENT: If Resident(s) leaves said premises unoccupied for 15 days while rent is due and unpaid, Owner(s) is granted the right hereunder to take immediate possession thereof and to exclude Resident(s) there from; removing at his/her expense all his/her property contained therein and placing it into storage at Resident(s)’s expense. TERMINATION: After one month’s rental payment has been received, this contract may be terminated by mutual consent of the parties, or by either party giving written notice of at least 15 days prior to the end of any monthly period. All parties agree that termination of this agreement prior to the 20th day of May, 2008 regardless of cause will constitute a breach of the tenancy as agreed on page 1 and all deposits shall be forfeited in favor of the Owner(s) as full liquidated damages at the Owner(s)’s option. RETURN OF DEPOSIT: Thirty days after termination of occupancy, the Owner(s) will send the balance of the deposit to the address provided by the Resident(s), payable to the signatories hereto, or Owner(s) will impose a claim on the deposit and so notify the Resident(s) by certified letter. If such written claim is not sent, the Owner(s) relinquishes his right to make any further claim on the deposit and must return it to the Resident(s) provided Residents) has given the Owner(s) notice of intent to vacate, abandon, and terminate this agreement proper to the expiration of its full term, at least 7 days in advance. RELEASE OF DEPOSIT: Release of security deposit is subject to the provisions as follows: The full term of this agreement has been completed. Formal written notice has been given. No damage or deterioration to the premises, structures, or grounds is evident. The entire dwelling/house, appliance and closets are clean and left free of insects, and all debris and garbage have been removed from the property; walls, ceilings and floors are cleaned and left odorless. Any and all unpaid charges, delinquent rents, utility charges, etc., have been paid in full. All keys have been returned, including keys to any new locks installed while Residents) was in possession. A forwarding address has been left with the Owner(s). OWNERS AGENTS AND ACCESS: The Owner(s) may be represented by an agent who will carry identification. Resident(s) specifically agrees to permit the Owner(s) or agent(s) access to the premises for the purposes of inspection, repairs, or to show the property to another person at reasonable hours, on request. RENEWAI. TERM: At the end of initial term herein, Owner(s) may elect to renew for another term but at a rental increase of FIVE HUNDRED PESOS IP 500.001 to the current agreed rental pay. ACKNOWLEDGMENT: In this agreement the Singular number where used will also include the Plural, the Masculine gender will include the Feminine, the terms Owner, Owners, and Owner(s) will include Landlord, Lesser, and the terms Resident, Residents, and Resident(s) will include Tenant, Lessee. The below-signed parties acknowledge that they have read and understand all of the provisions of this agreement. This contract is bound by all heirs, executors, successors and/or assigns. LEGAL CONTRACT: This is a legally binding contract. If you do not understand any part of this contract, seek competent legal advice before signing. 32. RIGHT TO SIGN: The individual(s) signing this House Rental Contract as to Resident(s) stipulates and warrants that he/she has the right to sign for and to bind all occupants. IN WITNESS WHEREOF, the parties hereto have set their hands this 2007, at Manila GERALDINE Q. GALINATO Resident CELESTINO ALFARO Resident’s Immediate Relative / Occupant Mary Rose C. Ingles Owner Antonio Levy S. Ingles, Jr. Owner SIGNED IN THE PRESENCE OF: WITNESS REPUBLIC OF THE PHILIPPINES} CITY OF MANILA} BEFORE ME, a Notary Public, for and in Manila personally appeared the following persons: known to me and to me known to be the same persons who executed the foregoing instrument and acknowledgement to me that the same is their free and voluntary act and deed. This instrument refers to as House Rental Contract of a two-bedroom residential unit located at Lot 6, Block 20, Royal South Townhomes, Marcos Alvarez Avenue, Talon 5, Las Pinas City, Metro Manila, consisting of five (5) pages including this one wherein this acknowledgement is written and has been signed by the parties hereto and their instrumental witnesses at the upper portion of this page and left hand margin of all other pages hereof. WITNESS MY HAND AND SEAL, this PROMISORY NOTE DOCUMENT: I, GERALDINE O. CAM NATO Resident(s), of legal age, with residence and postal address at 6 Manganese Road, Pilar Village, Las Pinas, Metro Manila, PROMISED TO GIVE ALL THE ELEVEN (11) POST DATED CHECKS on or before the 20th of June 2007, payable to ANTONIO LEVY S. INGLES. JR.. Owner(s), as monthly rent payments from June 20, 2007 to May 20, 2007 of the Owner(s)’ house located at Lot 6, Block 20, Royal South Townhomes, Marcos Alvarez Avenue, Talon 5, Las Pinas City, Metro Manila SCHEDULE OF PAYMENT of 11 PDCs from June 20, 2007 to May 20, 2007:   Failure to FUFILL THIS PROMISED AS STATED ABOVE will result to Resident(s) and other occupants to freely and voluntarily self evict themselves from the Owner!sf house. The Resident(s)/ Occupant(s) hereto have set their hands this 20th day of May, 2007, at Lot 6, Block 20, Royal South Townhomes, Marcos Alvarez Avenue, Talon 5, Las Pinas City, Metro Manila GERALDINE Q. GALINATO Resident CELESTINO ALFARO Occupant MIA ALFARO Occupant JED ALFARO Occupant\n"
          ]
        }
      ]
    },
    {
      "cell_type": "code",
      "source": [
        "!pip install python-docx\n",
        "\n",
        "from docx import Document\n",
        "\n",
        "def extract_text_from_docx(file_path):\n",
        "    doc = Document('/content/18325926-Rental-Agreement-1.docx')\n",
        "    text_content = []\n",
        "    for paragraph in doc.paragraphs:\n",
        "        text_content.append(paragraph.text)\n",
        "    return ' '.join(text_content)\n",
        "\n",
        "# Example usage:\n",
        "text_file_path = 'path/to/text_document.docx'\n",
        "text_content = extract_text_from_docx(text_file_path)\n",
        "print(text_content)"
      ],
      "metadata": {
        "colab": {
          "base_uri": "https://localhost:8080/"
        },
        "id": "Zqra0_cXsW1p",
        "outputId": "c639e2b9-5f8f-47ce-c81b-bd2cd28890b6"
      },
      "execution_count": null,
      "outputs": [
        {
          "output_type": "stream",
          "name": "stdout",
          "text": [
            "Requirement already satisfied: python-docx in /usr/local/lib/python3.10/dist-packages (1.1.0)\n",
            "Requirement already satisfied: lxml>=3.1.0 in /usr/local/lib/python3.10/dist-packages (from python-docx) (4.9.4)\n",
            "Requirement already satisfied: typing-extensions in /usr/local/lib/python3.10/dist-packages (from python-docx) (4.10.0)\n",
            "\u001b[33mWARNING: Running pip as the 'root' user can result in broken permissions and conflicting behaviour with the system package manager. It is recommended to use a virtual environment instead: https://pip.pypa.io/warnings/venv\u001b[0m\u001b[33m\n",
            "\u001b[0m          RENTAL AGREEMENT This deed of rental agreement executed at Bangalore this fifth day of December 2008 between MR.K.Kuttan S/o Kelu Aehari (Late) residing at site No 152 Geethalayam OMH colong S.M. Road 1st main, T.Dasarahalli, Bangalore-57. Here after called the lessor which term shall where the contest so admits mean and includes his legal heirs representatives executors and assign and Sri. P.M. Narayana Namboodri “Laxmi Leela” ground floor 3rd cross Ayyappa Nagar behind Ayyappa Temple, Jalahalli West, Bangalore - 15 referred as tenant which term shall wherever the context so admits mean and includes his legal heirs representations executors assign witnesses. Whereas the lessor is the absolute owner after premises at site No. 8/20 S.M. Road, Jalahalli West, Bangalore - 15 and he has constructed approximate 500 sft area of Ilnd floor with A.C. Sheet roof with power light in the above said premises. Where as the owner has offered to let out the premises for non residential purpose, where as the tenant has offered to take the said premises on rent for non residential purpose namely for “MAHALAKSHMI INDUSTRIAL CONSULTANT’ and tenant is the Proprietor of the business and he has agreed to pay rent Rs.4,000.00 (Rupees Four Thousand only) for above said premises with the following terms and conditions:- The agreement made only for eleven months from this date of agreement. Fresh agreement with mutual terms and conditions have to be extended (6.p.c is expecting every eleventh month). The tenant shall pay the rent above said, on before 10th of each month. An advance amount of Rs.35,000/- (Rupees thirty five thousand only) is paid by the tenant to the owner at the time of commencement of this agreement, the receipt where of is hereby acknowledged signing this agreement by the owner. The advance shall not carry any interest and refundable to the tenant at the time of vacating the schedule premises. Any arrears of rent electricity and water dues is permissible to deduct from the advance. Each party shall be liable to give three month advance notice for the termination of this agreement. The tenant shall pay the electricity and water charges within one week from the date of receipt of the bills. the tenant shall at the termination of this agreement have to remove superstructure if any put by the tenant at his own expenses and deliver the possession to the owner in good and tenable condition. The tenant shall himself obtain the license for the business top be carried on by him. The tenant shall not sublet or underlet the demised portion or any part there of to any third party. The building owner shall not in any case be held responsible with for any kind of theft, burglary, fire or accident within the portion of the building. All kinds of security arrangements insurances etc., will have to be done by the tenant if necessary. The tenant shall keep good relationship with neighbors. SIIIDIII WITNESSES OWNER\tTENANT 1.\n"
          ]
        }
      ]
    },
    {
      "cell_type": "code",
      "source": [
        "!pip install python-docx\n",
        "\n",
        "from docx import Document\n",
        "\n",
        "def extract_text_from_docx(file_path):\n",
        "    doc = Document('/content/44737744-Maddireddy-Bhargava-Reddy-Rental-Agreement.docx')\n",
        "    text_content = []\n",
        "    for paragraph in doc.paragraphs:\n",
        "        text_content.append(paragraph.text)\n",
        "    return ' '.join(text_content)\n",
        "\n",
        "# Example usage:\n",
        "text_file_path = 'path/to/text_document.docx'\n",
        "text_content = extract_text_from_docx(text_file_path)\n",
        "print(text_content)"
      ],
      "metadata": {
        "colab": {
          "base_uri": "https://localhost:8080/"
        },
        "id": "ln99A1-csmn6",
        "outputId": "a40bb129-2546-4d58-fd14-a95a1690bd38"
      },
      "execution_count": null,
      "outputs": [
        {
          "output_type": "stream",
          "name": "stdout",
          "text": [
            "Requirement already satisfied: python-docx in /usr/local/lib/python3.10/dist-packages (1.1.0)\n",
            "Requirement already satisfied: lxml>=3.1.0 in /usr/local/lib/python3.10/dist-packages (from python-docx) (4.9.4)\n",
            "Requirement already satisfied: typing-extensions in /usr/local/lib/python3.10/dist-packages (from python-docx) (4.10.0)\n",
            "\u001b[33mWARNING: Running pip as the 'root' user can result in broken permissions and conflicting behaviour with the system package manager. It is recommended to use a virtual environment instead: https://pip.pypa.io/warnings/venv\u001b[0m\u001b[33m\n",
            "\u001b[0mRENTfft\tENT This Rental Agreement is made and executed on this the .?.??& day of\t\t2010 at Hyderabad, by and between: M. V, V« VI JAY A SHANKAR, S/o, M, Rangaiah R/o. Flat No. 309 , SHEETAL.ENCLAVE, JE12DIJNETLA,\t Ranga Reddy Districto (Hereinafter called the “LANDLORD”) AND MADDIREDDY BHARGAVA REDDY, S/O,MADDIREDDY SUBBA REDDY, R/o,Flat No.303, SHEETAL ENCLAVE, JEEDIMETLA, Ranga Reddy District\t• (Hereinafter called the “TENANT”) WHEREAS the Landlord is the absolute owner and possessor of the bearing No Flat NOe2sfi 303» sheetal enclave, jeedimetla RANGA REDDY DISTRICT WHEREAS the tenant approached the landlord and requested him/her to let-out the said House/Plot on the rental basis and the same is accepted. WHEREAS the tenant agreed to pay the monthly rent on or before 5th day of every month at Rs\t9.99.7.9°\t p.m. and agreed to bear Electricity, Water Charges etc., as applicable, is valid from 11 months,.for the purposes of .Resident iai__|iroofo In witnesses whereof both the parties have signed on this the Rental Agreement before the following witnesses: WITNESSES:          \n"
          ]
        }
      ]
    },
    {
      "cell_type": "code",
      "source": [
        "!pip install python-docx\n",
        "\n",
        "from docx import Document\n",
        "\n",
        "def extract_text_from_docx(file_path):\n",
        "    doc = Document('/content/46239065-Standard-Rental-Agreement-Rental-With-Performance-Fee.docx')\n",
        "    text_content = []\n",
        "    for paragraph in doc.paragraphs:\n",
        "        text_content.append(paragraph.text)\n",
        "    return ' '.join(text_content)\n",
        "\n",
        "# Example usage:\n",
        "text_file_path = 'path/to/text_document.docx'\n",
        "text_content = extract_text_from_docx(text_file_path)\n",
        "print(text_content)"
      ],
      "metadata": {
        "colab": {
          "base_uri": "https://localhost:8080/"
        },
        "id": "kKcNRyPtsz9L",
        "outputId": "c1fe5bad-abc3-4ddb-dbe0-da8002863a18"
      },
      "execution_count": null,
      "outputs": [
        {
          "output_type": "stream",
          "name": "stdout",
          "text": [
            "Requirement already satisfied: python-docx in /usr/local/lib/python3.10/dist-packages (1.1.0)\n",
            "Requirement already satisfied: lxml>=3.1.0 in /usr/local/lib/python3.10/dist-packages (from python-docx) (4.9.4)\n",
            "Requirement already satisfied: typing-extensions in /usr/local/lib/python3.10/dist-packages (from python-docx) (4.10.0)\n",
            "\u001b[33mWARNING: Running pip as the 'root' user can result in broken permissions and conflicting behaviour with the system package manager. It is recommended to use a virtual environment instead: https://pip.pypa.io/warnings/venv\u001b[0m\u001b[33m\n",
            "\u001b[0mSTANDARD REAL ESTATE RENTAL AGREEMENT This Agreement made this 11 day of December, 2008, is between PROSPER 4 LESS,LLC\t (hereinafter referred to as \"Management\") and Jose Luis Salcido owner(hereinafter referred to as \"Resident\"). Management rents to Resident, and Resident rents from Management, property located at: Addressl6714 MOSSDALE BLVD.LANCASTER, State: California, Zip: 93535, the full legal description of which is the same as recorded with the Clerk of the Superior Court of Kern County, and is made a part hereof by reference (hereinafter referred to as the \"Property\"), under the following terms and conditions: TERM: The initial term of this Agreement shall be for $700.00 Dollars per months beginning on the 15 day of DECEMBER, 2008. CONDITION: Resident accepts Property in its present \"AS-IS\" condition and acknowledges that Resident has received a list of any existing damages to Property, been given the right to inspect same, and has approved said list except as previously specified in writing to Management. Resident acknowledges receipt of the \"Move-In Inspection Form\" and accepts the responsibility to complete said form within seven (7) days of taking possession and return a completed, signed copy to Management. Failure to do so shall be Resident's acknowledgment that Property is in perfect condition in every particular and that any damages, including breakage, bums and wear or otherwise not shown shall be Resident's responsibility and expense. MAINTENANCE, REPAIRS: Resident acknowledges that the premises are in good order and repair, unless otherwise indicated herein. Resident shall, at his own expense, and at all times, maintain the premises in a clean and sanitary manner, including all equipment and appliances therein and shall surrender the same, at the termination hereof, in as good condition as received, normal wear and tear excepted. Resident expressly stipulates and agrees that Management is granting a rental discount in exchange for Resident's agreeing to perform and bear the expense of. or have performed, minor maintenance and repairs on the dwelling, therefore Management shall NOT be responsible for maintenance and repairs of the premises during the term of this Agreement or any extensions, unless otherwise provided for herein. If Resident repair responsibilities conflict with any state laws to the contrary, Resident expressly agrees to fully waive and relinquish any protections so provided. Resident shall be responsible for damages caused by his negligence and that of his family or invitees and guests. Resident shall mow, irrigate and maintain any surrounding grounds, including lawns, shrubbery and gutters, and keep the same clear of rubbish, trash, weeds or leaves if such grounds are part of the Property and are available for the use of Resident. Should Resident fail to do so, Management, after attempting to notify Resident, may, but is not required to, maintain lawns and/or shrubbery by using a professional yard maintenance company. Resident agrees to pay the cost of any such yard maintenance as additional rent. APPLIANCES: All appliances of any kind including window air conditioners are specifically excluded from this Agreement. Such appliances remain as a convenience to Resident and Management assumes no responsibility for their operation. No part of the monthly rent is attributable to them. Any appliance on premises at the signing of this Agreement shall be returned by Resident upon move-out in the same condition as at the signing of this Agreement. ALTERATIONS: Resident shall not make, or allow to be made, any alterations, installations, repairs or redecoration of any kind to the Property without prior written permission of Management, provided, however, that notwithstanding such consent, Resident agrees that all alterations including, without limitation, any items affixed to the Property, shall become the properly of Management upon the termination of this Agreement. This includes, but is not limited to, ceiling fans, mini blinds, carpeting, fencing, lighting fixtures, shrubs, flowers, etc. Removal of these items shall be considered theft subject to civil and criminal prosecution. USE: The Property shall be used for Residential purposes only and shall be occupied by the undersigned 2\tadults, children as named in the original application to rent, only. Occupancy by guests staying over 14 days will be considered in violation of this agreement and additional monthly rent of $100.00 per person shall be due, chargeable from the beginning date of this Agreement, unless prior written consent is given by Management. The Properly shall be used so as to comply with all state, county, and municipal laws and ordinances and shall be kept in a clean and orderly condition. Resident shall not use the Property or permit it to be used for any disorderly or unlawful purpose or in any manner so as to interfere with neighbors. Resident shall be responsible and fully liable for the conduct of his/her guests. Acts of guests in violation of this Agreement or Management's rales and regulations may be deemed by Management to be a breach by Resident. Resident’s Initials Utilities: Resident is responsible for payment of all utilities, to include water, sewage, garbage collection, cable TV, electricity, gas, local telephone service; even if the bills remain in Management's name. Failing to pay the utility bills will be interpreted as a default and a violation of this Agreement. Any installation costs are the responsibility of Resident. Any wall jacks, telephone or cable installation shall remain with the Property. Telephones: Resident shall obtain a home telephone and must supply Management with home and work telephone numbers immediately and agrees to immediately notify Management of any change of numbers during the term of this Agreement. Storage: No goods or materials of any kind or description which are combustible or would increase fire risk, shall be stored on the Properly. Any storage shall be at Resident's risk and expense, Management shall not be responsible for any loss or damage. Walls: No nails, screws or adhesive hangers except standard picture hooks, shade brackets and curtain rod brackets may be placed in walls, woodwork, or any part of the Property. GOOD HOUSEKEEPING IS EXPECTED OF EVERYONE: Resident agrees to keep the Property in a clean and sanitary condition, and to remove any trash or mbbish as it accumulates. Pest control: Resident agrees to provide pest control as needed. Any infestation shall constitute a default of this Agreement. Furnace maintenance: Resident shall change furnace filter(s) monthly during the heating/cooling season. Smoke alarm: Resident shall keep smoke alarm (si and fire extinguisher tif provided) in working order including replacing the battery as needed. Resident accepts any liability associated with the use and upkeep of all such devices and understands how to and agrees to test same. Kerosene Heaters and Appliances: Resident agrees not to use any form of Kerosene space heater in the dwelling. Water beds: Resident shall not have or keep any water bed in the dwelling without prior written permission of Management. A condition of approval is a waterbed insurance policy paid by Resident with Management listed as loss payee. Vehicles: Vehicles shall NOT be parked on lawn at any time. Non-operative vehicles are not permitted on Property. Any such non-operative vehicle may be removed by Management at the expense of Resident, for storage for public or private sale, at Management's option, and Resident shall have no right of recourse against Management thereafter. Yard care: Resident will be responsible for maintaining the lawn, bushes, and trees in a neat and attractive manner. If not cared for, Management has the right to have this done professionally and Resident herewith agrees to pay the cost for same. Gutters: Resident shall have gutters cleaned each fall or as needed. Basements: Management in no way warrants any basement against any leakage of any kind at any time. Septic: If residence has septic tank, resident shall not abuse system; do not deposit tobacco, coffee grounds or unnecessary food or other wastes or materials, including diapers and sanitary napkins, down sinks or commodes. Resident shall regularly add septic tank treatment, available at home supply stores, to the system to keep it operating properly and efficiently. Resident is prohibited from adding a garbage disposal to any house, which has a septic system. Resident’s Initials PROPERTY LOSS & LIABILITY: Management shall not be liable for damage, theft, vandalism, or other loss of any kind to Resident's personal property or the personal property of Resident's family members or guests. Management shall not be responsible or liable for any injury, loss or damage to any person or property of Resident or any other person. RENTERS INSURANCE: Resident agrees to purchase comprehensive insurance, known as a Renter's Insurance Policy, against all perils, including but not limited to insurance on personal property or property of other persons from protection of loss due to or caused by theft, vandalism, bursting or breaking pipes, by or from fire, windstorm, hail, flooding, leakage, steam, snow or ice, by or from running water, backing up of drainage pipes, seepage, or the overflow of water or sewage on the Property. Said policy shall include liability coverage of $300,000.00 minimum. LEAD, ASBESTOS, MOLD AND/OR RADON: If Property was constructed prior to 1980 it may contain lead and/or asbestos containing materials. This shall serve as constructive notice that this Property was constmcted in approximately\t. Resident may have Property tested for lead, asbestos, mold and/or radon levels prior to occupancy. Should Resident determine that the levels of lead, asbestos, mold and/or radon are unacceptable to Resident, Resident may void this Agreement prior to taking possession of Property, but not later than three (3) days after entering into this Agreement with Management. Resident herewith acknowledges receipt of the Federal Pamphlet Protect Your Family From Lead in Your Home and the Lessor's disclosure form attached hereto and made a part hereof by reference. NO ASSIGNMENT OR SUBLETTING: Continued occupancy of the premises is a requirement. Resident may not sub-let Property or assign this Agreement without the prior written consent of Management. Any subletting, if granted, shall not release Resident from their obligations outlined herein. FIRE: If the Property is made uninhabitable by fire or other casualty, not the fault of Resident, this Agreement shall be voidable by either party. HOLDING OVER: Should the Resident hold over on the Properly after expiration of the term of this Agreement and with the consent of Management, the possession shall not be construed as a renewal for the same term, but shall be construed as a month to month tenancy in accordance with the terms hereof, as applicable, and Rental Rate shall be charged at a rate 50% higher than the Rental Rate as contained in Paragraph 3 hereinabove. There shall be no renewal of this Agreement by operation of law. RIGHT OF ACCESS: Management may enter the Properly without notice to Resident for inspection and maintenance during reasonable hours. Management shall attempt to notify Resident of the need for access, but has no obligation to do so. If locks have been changed without providing Management with a key, Management may forcibly enter without being liable for damage or unlawful entry. In case of emergency, Management may enter at any time. During the last sixty (60) days of occupancy, or upon notification of intent to vacate, Management may place a sign on the Property and/or may install a lock-box and show the Property during reasonable hours. Management will attempt to notify Resident, but has no obligation to do so. DEFAULT BY RESIDENT: Should Resident fail to pay any rent or other charges as and when due hereunder, or if Resident abandons the property or fails to perform any of its obligations hereunder, Management, at its option, may terminate all rights of Resident hereunder, unless Resident, within 24 hours after notice thereof, shall cure such default. If Resident abandons or vacates the Property, while in default of the payment of rent, Management may consider any property left on the Property to be abandoned and may dispose of same in any manner allowed by law, without responsibility or liability therefore. All personal property at the Property is hereby subject to a lien in favor of Management for payment of all sums due hereunder, to the maximum extent under law. Upon the adjudication of Resident in Bankruptcy, or if any facts contained in Resident's application are untrue or misleading, then, upon the happening of any of said events, Resident shall be in default hereunder and Management may, at its option, immediately terminate this Agreement by written notice to Resident. In the event of a default by Resident, Management may elect to (i) continue this Agreement and enforce all of Management's rights and remedies hereunder, including the right to recover the rent as it comes due, or (ii) at any time, terminate all of Resident's rights hereunder and recover from Resident all damages Management may incur by reason of the breach of this Agreement, including the cost of recovering the Property, and including the worth at the time of termination, or at the time of an award should a suit be instituted to enforce this provision, of the amount by which the unpaid rent for the balance of the term exceeds the amount of such rental loss which Resident proves could be reasonably avoided. ABANDONMENT: Anytime the Property is left unoccupied for more than seven (7) days while rent remains unpaid without notice to Management, Management may consider the Property abandoned. Management may, at its option, declare this Agreement forfeited and re-rent said premises without any liability whatsoever. Resident shall be obligated to pay based on the balance of the rental agreement or the early termination requirement, whichever is greater. If Resident removes or attempts to remove any personal property from the premises other than in the usual course of continuing occupancy, without having first paid Management all monies due, Management shall have the right, without notice, to obtain an injunction to stop removal as Management has an attachment interest in the personal belongings of the non-paying Resident. Management shall also have the right to remove, store or dispose of any of Resident's personal property remaining on the premises after the termination of this agreement. Any such personal property shall be considered Management's property, and title thereto shall vest in Management. Resident’s Initials CROSS DEFAULT: If Resident has entered into any other agreements concerning Property and Resident defaults on any provisions of those agreements, then this Agreement shall also be considered in default and, at the option of Management, this Agreement may be voided. REMEDIES CUMULATIVE: All remedies under this Agreement or by law or equity shall be cumulative. In the event that either Management or Resident brings legal action to enforce the terms hereof or relating to the rental Property, the prevailing party shall be entitled to all costs incurred in connection with such action including reasonable attorney's fees. In the event a collection agency becomes necessary to collect any accounts due on this Agreement, Resident agrees to pay said commission. If any term or provision of this Agreement or application thereof to any person shall be held invalid or unenforceable, the remainder of this Agreement shall not be affected thereby. NO ESTATE IN LAND: This Agreement shall create the relationship of landlord and tenant between Management and Resident; no estate shall pass out of Management; Resident has only a usufruct and not an estate for years. MORTGAGEE'S RIGHTS: Resident's rights under this Agreement shall be subject to any bonafide mortgage or deed to secure debt, which is now or shall hereafter be placed on Property. MANAGEMENT'S PERMISSION OR CONSENT: If any provision of this Agreement requires the written permission or consent of Management as a condition to any act of Resident, such written permission or consent may be granted or withheld in the sole discretion of Management and/or may contain such conditions as Management deems appropriate and shall be effective only so long as Resident complies with such conditions. Moreover, any written permission or consent given by Management to Resident may be modified, revoked, or withdrawn by Management at any time, at Management's sole discretion, upon written notice to Resident. NOTICES: Any notice required by this Agreement, except as otherwise set forth shall be in writing and shall be deemed to be given if delivered personally or mailed via first class mail. If to Resident, to the Property or the last known address of Resident; If to Management, to the address as contained in Paragraph 3. ACCURACY AND RESPONSIBILITY: Management has relied upon the information contained in Resident's application to enter into this Agreement. Resident warrants that their rental application is fine, complete and accurate. Resident agrees that if he/she has falsified any statement in the rental application, Management has the right to terminate this Rental Agreement immediately and further agrees that Management shall be entitled to retain any performance fee and any prepaid rents as fair and just liquidated damages. Resident further agrees in the event Management exercises its option to terminate this Rental Agreement, he/she will remove him/herself, family and possessions from the Properly within 24 hours of notification by Management. Resident further agrees to indemnify Management for any damages to Property including, but not limited to, the cost of making residence suitable for renting to INDEMNIFICATION: Management shall not be liable for any damage or injury to Resident, or any other person, or to ary property, occurring on the Property, or any part thereof, or in common areas thereof, unless such damage is the proximate result of the negligence or unlawful act of Management, his agents, or his employees. Resident does hereby indemnify, release, and save harmless Management and Management agents from and against any and all suits, actions, claims, judgments, and expenses arising out of or relating to any loss of life, bodily or personal injury, properly damage, or other demand, claim or action of any nature arising out of or related to this Agreement or the use of this Properly and premises. ENTIRE AGREEMENT: This Agreement and any attached addendum constitutes the sole and entire Agreement between the parties and no representation, promise, or inducement not included in this Agreement, oral or written, shall be binding upon any party hereto. Attachments: Move-in Inspection Report; EPA Lead Paint Disclosure; EPA Lead Paint Pamphlet; Other: Tenats Acknowledge that only the Land is being IN WITNESS WHEREOF, the parties hereto have caused these presents to be signed in person or by a person duly authorized, the day and year above written. If this Agreement is not signed by all the Residents named herein and/or on rental application, the one(s) signing warrants that he or she has the authority and is acting as agent to sign for the other. Tenants Sign\t \t \t (Print Name)\t Resident’s Initials                                         Resident’s Initials\n"
          ]
        }
      ]
    },
    {
      "cell_type": "code",
      "source": [
        "!pip install python-docx\n",
        "\n",
        "from docx import Document\n",
        "\n",
        "def extract_text_from_docx(file_path):\n",
        "    doc = Document('/content/47854715-RENTAL-AGREEMENT.docx')\n",
        "    text_content = []\n",
        "    for paragraph in doc.paragraphs:\n",
        "        text_content.append(paragraph.text)\n",
        "    return ' '.join(text_content)\n",
        "\n",
        "# Example usage:\n",
        "text_file_path = 'path/to/text_document.docx'\n",
        "text_content = extract_text_from_docx(text_file_path)\n",
        "print(text_content)"
      ],
      "metadata": {
        "colab": {
          "base_uri": "https://localhost:8080/"
        },
        "id": "Cxgc5L7TtGHy",
        "outputId": "b0692baf-5c34-41bf-ee9f-e32cc3c2478c"
      },
      "execution_count": null,
      "outputs": [
        {
          "output_type": "stream",
          "name": "stdout",
          "text": [
            "Requirement already satisfied: python-docx in /usr/local/lib/python3.10/dist-packages (1.1.0)\n",
            "Requirement already satisfied: lxml>=3.1.0 in /usr/local/lib/python3.10/dist-packages (from python-docx) (4.9.4)\n",
            "Requirement already satisfied: typing-extensions in /usr/local/lib/python3.10/dist-packages (from python-docx) (4.10.0)\n",
            "\u001b[33mWARNING: Running pip as the 'root' user can result in broken permissions and conflicting behaviour with the system package manager. It is recommended to use a virtual environment instead: https://pip.pypa.io/warnings/venv\u001b[0m\u001b[33m\n",
            "\u001b[0m                  RENTAL AGREEMENT THIS DEED OF RENTAL AGREEMENT ENTERED INTO AT CHENNAI ON 21st OF MARCH 2010 BETWEEN Mr. P C MATHEW, S/O K JOSEPH CHACKO, hereinafter called the party of the first part and between Mr. L GOPINATH S/o of G LAKSHMI NARISIMHAN after called the party of the second part witnesses. Whereas the party of the first part being the owner of the premises at Flat No C 8 SAMS AVENUE APPARTMENT No 65 VALLUVAR ST ARUMBAKKAM CHENNAI 600106 has agreed to let the above premises to the party of the second part for residential use on a monthly rent of Rs.9000 (Rupees Nine Thousand Only) plus monthly maintenance expenses levied on by the association, on condition of his accepting to take on hire the house with amenities provided therein and whereas the party of the second part has agreed and will occupy the premises From 1st April 2010. The lessor hereby let on lease the house to the lessee on a monthly rent of Rs.9000/-(Rupees Seven thousand only) for a period of 11 months starting from 1st of April 2010. The amount shall be paid before 5th of the succeeding calendar month without any deduction whatsoever. The lease is for a period of 11 months, commencing from this day, 1st of April 2010. The lessor hereby grants to the lessees to use and occupy the ground floor of the said house for residential purpose only and not for godown, storage of articles, packing/unpacking or for any other business purposes. The lessee had kept deposited with the lessor a sum of Rs.90000/-(Rupees Ninety Five thousand only), as deposit without interest for the due performance of this agreement. The deposit shall not entitle the lessee to withhold any payment of monthly rent. The said deposit shall be refundable to the lessee at the time the lessee hands over the vacant possession of the said house. If any damages is done by the lessee to the house during the subsistence of the lease herein granted and any arrears of rent due, the lessor shall be entitled to adjust aforesaid deposit the amount necessary for making good such damages and or rents due. Damages if any to the basins, pans, water taps doors and windows, walls, alcops, electrical fittings, glazed tiles etc; or any part of the house will be made good or replaced by the lessor and the lessee has to bear the entire cost for any such replacement/repair or the lessee may get it done at his cost with the knowledge and prior consent of the lessor. In the default of the lessee to undertake the repair/replacement of the damaged property or to meet the expenses, the same will be adjusted from the rent advance lying with the lessor. The lessor or their authorized agents shall be entitled to enter upon the said house to inspect the conditions of the premises or to get repairs done or for other lawful purpose thereof at all reasonable times and the lessee shall allow them to so enter. The lessor shall not make structural alterations in the said house or add any fixtures without the prior permission of the lessor. The lessee shall pay electricity charges regularly as per the meter reading and also undertake house maintenance and water charges. The lessor shall pay the property tax and other taxes on the house. If the lessee commits breach of any of the conditions here above mentioned notwithstanding the period herein above mentioned, the lessor shall be at liberty to revoke and or cancel the lease granted forthwith. Two months notice on either side shall be the condition for the lessor and lessee to terminate this lease to voluntarily vacate the premises. Notwithstanding anything contained above, the lessor can terminate the lease in case the lessee defaults in payment of rent and amenity charges for two month. If the lessee desires to have this lease deed renewed for a further period after the expiry of eleven months, one month advance notice should be given in writing to the lessor for negotiating renewal on terms and conditions to be mutually agreed upon. The lessee shall observe and perform all rules regarding conditions, covenants and stipulations relating to the user of the house as laid down from time to time and shall keep the lessor indemnified against any non observance of breach thereof. The lessor upon termination of the agreement will peacefully and quietly deliver unto the lessor the possession of the said premises together with fixtures and fittings and in substantially the same condition. IN WITNESS WHEREOF THE LESSOR AND LESSEES HAVE HEREUNTO SIGNED THE DAY AND YEAR ABOVE WRITTEN. WITNESS :\tParty of the First Part: Party of the Second Part:\n"
          ]
        }
      ]
    },
    {
      "cell_type": "code",
      "source": [
        "!pip install python-docx\n",
        "\n",
        "from docx import Document\n",
        "\n",
        "def extract_text_from_docx(file_path):\n",
        "    doc = Document('/content/50070534-RENTAL-AGREEMENT.docx')\n",
        "    text_content = []\n",
        "    for paragraph in doc.paragraphs:\n",
        "        text_content.append(paragraph.text)\n",
        "    return ' '.join(text_content)\n",
        "\n",
        "# Example usage:\n",
        "text_file_path = 'path/to/text_document.docx'\n",
        "text_content = extract_text_from_docx(text_file_path)\n",
        "print(text_content)"
      ],
      "metadata": {
        "colab": {
          "base_uri": "https://localhost:8080/"
        },
        "id": "3_jhWkxXtQqk",
        "outputId": "f22f22a6-7917-4b1e-fdef-b6efb7fa7992"
      },
      "execution_count": null,
      "outputs": [
        {
          "output_type": "stream",
          "name": "stdout",
          "text": [
            "Requirement already satisfied: python-docx in /usr/local/lib/python3.10/dist-packages (1.1.0)\n",
            "Requirement already satisfied: lxml>=3.1.0 in /usr/local/lib/python3.10/dist-packages (from python-docx) (4.9.4)\n",
            "Requirement already satisfied: typing-extensions in /usr/local/lib/python3.10/dist-packages (from python-docx) (4.10.0)\n",
            "\u001b[33mWARNING: Running pip as the 'root' user can result in broken permissions and conflicting behaviour with the system package manager. It is recommended to use a virtual environment instead: https://pip.pypa.io/warnings/venv\u001b[0m\u001b[33m\n",
            "\u001b[0m                               RENTAL AGREEMENT THIS RENTAL AGREEMENT is executed at Chennai - 600 041 on 14th day of July 2010 between Mr. P. JohnsonRavikumar, aged about 43 Years, residing at Plot. No: 10, Door No:3, Jeevanantham Street, Lakshmipuram Tiruvanmiyur, Chennai - 600 041. Which term shall include their heirs, assigns, nominees, hereinafter referred to as “HOUSE OWNER”. and Mr. Saravanan BV aged about 27 years, residing at Plot. No: 10, Door No:3, Jeevanantham Street, Lakshmipuram Tiruvanmiyur, Chennai - 600 041. Which term shall include their heirs, assigns, nominees, hereinafter referred to as “TENANT”. The terms “HOUSE OWNER” and “TENANT” wherever the context so requires or admits shall mean and include their respective heirs, executors, administrators, legal representatives and assigns. The HOUSE OWNER is agreed to rent out the own house premises Plot. No: 10, Door No:3, Jeevanantham Street, Lakshmipuram Tiruvanmiyur, Chennai - 600 041 and the TENANT is agreed to occupy the same on paying monthly rent. Now the HOUSE OWNER and TENANT hereby AGREE to the following terms and conditions: The agreement shall be for a period of 11 months beginning form 01.04.2010 and ending with 30.03.2011. The monthly rent, water maintenance charges for the said shall be Rs. 10,000/- (Rupees Ten Thousand only) rent should be paid according to the English calendar month and shall be payable on or before 5th of every succeeding calendar month. The tenant has paid the sum of Rs.50, 000/- (Rupees Fifty thousand only) by cash without any interest, and the House Owner has to re-pay the money while the Tenant vacating the house. The Tenant shall use the house premises for residential purpose only and not for any other purpose. The Tenant shall maintain the leased premises in good condition and repair and deliver the same at the expiry of the lease period or sooner determination of the tenancy. The tenant shall also before delivering up possession together with all the amenities provided by the House owner and the electrical fittings, repair and restore at his cost to their original. The Tenant shall not make any alterations or put up any construction in the premises. The Tenant shall not sub - let leased premise wholly or partially. That the Tenant hereby covenants to pay the electric consumption charges to the electricity board. The House Owner and Tenant hereby agree that three months advance notice in writing is essential for the tenant for vacating the premises if he chooses to terminate this agreement during the validity period. In witness whereof the house owner and tenant have set their hands and seal the day, month and year first above written. TENANT WITNESSES: 1.\n"
          ]
        }
      ]
    },
    {
      "cell_type": "code",
      "source": [
        "import cv2\n",
        "\n",
        "def extract_features_from_image(file_path):\n",
        "    image = cv2.imread('/content/36199312-Rental-Agreement.png')\n",
        "    # Perform image preprocessing and feature extraction\n",
        "    # Example: Convert image to grayscale and resize\n",
        "    grayscale_image = cv2.cvtColor(image, cv2.COLOR_BGR2GRAY)\n",
        "    resized_image = cv2.resize(grayscale_image, (224, 224))  # Example size\n",
        "\n",
        "    return resized_image\n",
        "\n",
        "# Example usage:\n",
        "image_file_path = 'path/to/image_document.png'\n",
        "image_features = extract_features_from_image(image_file_path)\n",
        "print(image_features.shape)  # Print shape of the extracted image features"
      ],
      "metadata": {
        "colab": {
          "base_uri": "https://localhost:8080/"
        },
        "id": "LNQ-BWbHtrwc",
        "outputId": "804f7aa5-1950-46bf-9d56-c381f7cc7cc5"
      },
      "execution_count": null,
      "outputs": [
        {
          "output_type": "stream",
          "name": "stdout",
          "text": [
            "(224, 224)\n"
          ]
        }
      ]
    },
    {
      "cell_type": "code",
      "source": [
        "import cv2\n",
        "\n",
        "def extract_features_from_image(file_path):\n",
        "    image = cv2.imread('/content/54770958-Rental-Agreement.png')\n",
        "    # Perform image preprocessing and feature extraction\n",
        "    # Example: Convert image to grayscale and resize\n",
        "    grayscale_image = cv2.cvtColor(image, cv2.COLOR_BGR2GRAY)\n",
        "    resized_image = cv2.resize(grayscale_image, (224, 224))  # Example size\n",
        "\n",
        "    return resized_image\n",
        "\n",
        "# Example usage:\n",
        "image_file_path = 'path/to/image_document.png'\n",
        "image_features = extract_features_from_image(image_file_path)\n",
        "print(image_features.shape)  # Print shape of the extracted image features"
      ],
      "metadata": {
        "colab": {
          "base_uri": "https://localhost:8080/"
        },
        "id": "2KE7pdDNtr_l",
        "outputId": "cdd7c711-3322-4336-cf90-2a7ab5446581"
      },
      "execution_count": null,
      "outputs": [
        {
          "output_type": "stream",
          "name": "stdout",
          "text": [
            "(224, 224)\n"
          ]
        }
      ]
    },
    {
      "cell_type": "code",
      "source": [
        "def extract_features_from_image(file_path):\n",
        "    image = cv2.imread('/content/54945838-Rental-Agreement.png')\n",
        "    # Perform image preprocessing and feature extraction\n",
        "    # Example: Convert image to grayscale and resize\n",
        "    grayscale_image = cv2.cvtColor(image, cv2.COLOR_BGR2GRAY)\n",
        "    resized_image = cv2.resize(grayscale_image, (224, 224))  # Example size\n",
        "\n",
        "    return resized_image\n",
        "\n",
        "# Example usage:\n",
        "image_file_path = 'path/to/image_document.png'\n",
        "image_features = extract_features_from_image(image_file_path)\n",
        "print(image_features.shape)  # Print shape of the extracted image features"
      ],
      "metadata": {
        "colab": {
          "base_uri": "https://localhost:8080/"
        },
        "id": "za0dzXo_tson",
        "outputId": "d253d1be-a617-4f34-cd61-96c4c3c80572"
      },
      "execution_count": null,
      "outputs": [
        {
          "output_type": "stream",
          "name": "stdout",
          "text": [
            "(224, 224)\n"
          ]
        }
      ]
    },
    {
      "cell_type": "code",
      "source": [
        "# STEP3: MODEL TRAINING\n",
        "import spacy\n",
        "import re\n",
        "\n",
        "# Load the spaCy model\n",
        "nlp = spacy.load(\"en_core_web_sm\")\n",
        "\n",
        "# Extract dates and monetary values using regex\n",
        "def extract_dates(text):\n",
        "    dates = re.findall(r'\\d{1,2}\\/\\d{1,2}\\/\\d{2,4}', text)\n",
        "    return dates\n",
        "\n",
        "def extract_money(text):\n",
        "    money = re.findall(r'\\$\\d+(\\.\\d{1,2})?', text)\n",
        "    return money\n",
        "\n",
        "\n"
      ],
      "metadata": {
        "id": "4rb2Bo7vYQFb"
      },
      "execution_count": null,
      "outputs": []
    },
    {
      "cell_type": "code",
      "source": [
        "from sklearn.pipeline import Pipeline\n",
        "from sklearn.feature_extraction.text import TfidfVectorizer\n",
        "from sklearn.ensemble import RandomForestClassifier\n",
        "from sklearn.model_selection import train_test_split\n",
        "from sklearn.metrics import accuracy_score, classification_report\n",
        "import pandas as pd\n",
        "\n",
        "# Load your dataset containing filenames and agreement versions\n",
        "train_df = pd.read_csv(\"train.csv\")\n",
        "\n",
        "# Check the column names\n",
        "print(train_df.columns)\n",
        "\n",
        "# Split data into train and test sets\n",
        "X_train, X_test, y_train, y_test = train_test_split(train_df['File Name'], train_df['Aggrement Value'], test_size=0.2, random_state=42)\n",
        "\n",
        "# Define pipeline\n",
        "pipeline = Pipeline([\n",
        "    ('tfidf', TfidfVectorizer()),  # Convert filenames to TF-IDF features\n",
        "    ('clf', RandomForestClassifier(n_estimators=100, random_state=42)),  # Random Forest classifier\n",
        "])\n",
        "\n",
        "# Fit pipeline\n",
        "pipeline.fit(X_train, y_train)\n",
        "\n",
        "# Evaluate model\n",
        "y_pred = pipeline.predict(X_test)\n",
        "accuracy = accuracy_score(y_test, y_pred)\n",
        "print(\"Accuracy:\", accuracy)\n",
        "print(classification_report(y_test, y_pred))\n"
      ],
      "metadata": {
        "colab": {
          "base_uri": "https://localhost:8080/"
        },
        "id": "dGsoWKKK4lJy",
        "outputId": "c8607528-e5c6-4778-a2d6-1f9216a8f44e"
      },
      "execution_count": null,
      "outputs": [
        {
          "output_type": "stream",
          "name": "stdout",
          "text": [
            "Index(['File Name', 'Aggrement Value', 'Aggrement Start Date',\n",
            "       'Aggrement End Date', 'Renewal Notice (Days)', 'Party One',\n",
            "       'Party Two'],\n",
            "      dtype='object')\n",
            "Accuracy: 0.5\n",
            "              precision    recall  f1-score   support\n",
            "\n",
            "        5500       0.00      0.00      0.00         0\n",
            "        6500       1.00      1.00      1.00         1\n",
            "        8000       0.00      0.00      0.00         1\n",
            "\n",
            "    accuracy                           0.50         2\n",
            "   macro avg       0.33      0.33      0.33         2\n",
            "weighted avg       0.50      0.50      0.50         2\n",
            "\n"
          ]
        },
        {
          "output_type": "stream",
          "name": "stderr",
          "text": [
            "/usr/local/lib/python3.10/dist-packages/sklearn/metrics/_classification.py:1344: UndefinedMetricWarning: Precision and F-score are ill-defined and being set to 0.0 in labels with no predicted samples. Use `zero_division` parameter to control this behavior.\n",
            "  _warn_prf(average, modifier, msg_start, len(result))\n",
            "/usr/local/lib/python3.10/dist-packages/sklearn/metrics/_classification.py:1344: UndefinedMetricWarning: Recall and F-score are ill-defined and being set to 0.0 in labels with no true samples. Use `zero_division` parameter to control this behavior.\n",
            "  _warn_prf(average, modifier, msg_start, len(result))\n",
            "/usr/local/lib/python3.10/dist-packages/sklearn/metrics/_classification.py:1344: UndefinedMetricWarning: Precision and F-score are ill-defined and being set to 0.0 in labels with no predicted samples. Use `zero_division` parameter to control this behavior.\n",
            "  _warn_prf(average, modifier, msg_start, len(result))\n",
            "/usr/local/lib/python3.10/dist-packages/sklearn/metrics/_classification.py:1344: UndefinedMetricWarning: Recall and F-score are ill-defined and being set to 0.0 in labels with no true samples. Use `zero_division` parameter to control this behavior.\n",
            "  _warn_prf(average, modifier, msg_start, len(result))\n",
            "/usr/local/lib/python3.10/dist-packages/sklearn/metrics/_classification.py:1344: UndefinedMetricWarning: Precision and F-score are ill-defined and being set to 0.0 in labels with no predicted samples. Use `zero_division` parameter to control this behavior.\n",
            "  _warn_prf(average, modifier, msg_start, len(result))\n",
            "/usr/local/lib/python3.10/dist-packages/sklearn/metrics/_classification.py:1344: UndefinedMetricWarning: Recall and F-score are ill-defined and being set to 0.0 in labels with no true samples. Use `zero_division` parameter to control this behavior.\n",
            "  _warn_prf(average, modifier, msg_start, len(result))\n"
          ]
        }
      ]
    },
    {
      "cell_type": "code",
      "source": [
        "from sklearn.model_selection import train_test_split\n",
        "from sklearn.ensemble import RandomForestRegressor\n",
        "from sklearn.metrics import r2_score\n",
        "\n",
        "# Replace the following lines with your own data or data loading code\n",
        "features = [[1], [2], [3], [4], [5], [6], [7], [8]]  # Your feature matrix\n",
        "labels = [5000, 6000, 7000, 8000, 9000, 10000, 11000, 12000] # Your target vector\n",
        "\n",
        "# Split the data into training and testing sets\n",
        "X_train, X_test, y_train, y_test = train_test_split(features, labels, test_size=0.2, random_state=42)\n",
        "\n",
        "# Initialize and train a Random Forest regressor\n",
        "regressor = RandomForestRegressor(n_estimators=100, random_state=42)\n",
        "regressor.fit(X_train, y_train)\n",
        "\n",
        "# Make predictions on the testing data\n",
        "y_pred = regressor.predict(X_test)\n",
        "\n",
        "# Calculate R^2 score (coefficient of determination)\n",
        "r2 = r2_score(y_test, y_pred)\n",
        "print(\"R^2 Score:\", r2)\n"
      ],
      "metadata": {
        "colab": {
          "base_uri": "https://localhost:8080/"
        },
        "id": "opvJsiev0Y9t",
        "outputId": "df86b335-c77f-4610-85e0-700765a6fe33"
      },
      "execution_count": null,
      "outputs": [
        {
          "output_type": "stream",
          "name": "stdout",
          "text": [
            "R^2 Score: 0.9651\n"
          ]
        }
      ]
    },
    {
      "cell_type": "code",
      "source": [
        "from sklearn.ensemble import RandomForestClassifier\n",
        "from sklearn.model_selection import GridSearchCV, train_test_split\n",
        "from sklearn.metrics import classification_report\n",
        "from sklearn.preprocessing import LabelEncoder\n",
        "import pandas as pd\n",
        "from sklearn.model_selection import GridSearchCV\n",
        "\n",
        "# Load your dataset, replace 'test.csv' with your actual dataset file\n",
        "test = pd.read_csv('test.csv')\n",
        "\n",
        "# Perform data preprocessing and feature engineering as needed\n",
        "# For example, handle missing values, encode categorical variables, etc.\n",
        "\n",
        "# Split the data into features (X) and target variable (y)\n",
        "X = test.drop(columns=['Aggrement Value'])  # Features\n",
        "y = test['Aggrement Value']  # Target variable\n",
        "\n",
        "print(X.head())\n",
        "\n",
        "# Encoding categorial variables\n",
        "from sklearn.preprocessing import LabelEncoder\n",
        "\n",
        "label_encoder = LabelEncoder()\n",
        "for col in X.select_dtypes(include='object'):\n",
        "    X[col] = label_encoder.fit_transform(X[col])\n",
        "\n",
        "# Split the data into training and testing sets\n",
        "X_train, X_test, y_train, y_test = train_test_split(X, y, test_size=0.2, random_state=42)\n",
        "\n",
        "# Reinitialize the model and grid search objects\n",
        "clf = RandomForestClassifier()\n",
        "param_grid = {\n",
        "    'n_estimators': [100, 200, 300],\n",
        "    'max_depth': [None, 10, 20],\n",
        "}\n",
        "grid_search = GridSearchCV(clf, param_grid, cv=2, scoring='recall')\n",
        "# Running the grid search\n",
        "grid_search.fit(X_train, y_train)\n",
        "\n",
        "# Print the best hyperparameters found by grid search\n",
        "print(grid_search.best_params_)\n",
        "print(\"Best Hyperparameters:\", grid_search.best_params_)"
      ],
      "metadata": {
        "colab": {
          "base_uri": "https://localhost:8080/"
        },
        "id": "_NsrJUF_-BEq",
        "outputId": "54344c4a-b907-44a1-d897-c8cc4367c41e"
      },
      "execution_count": null,
      "outputs": [
        {
          "output_type": "stream",
          "name": "stdout",
          "text": [
            "                             File Name Aggrement Start Date  \\\n",
            "0            24158401-Rental-Agreement           01.04.2008   \n",
            "1            95980236-Rental-Agreement           01.04.2010   \n",
            "2  156155545-Rental-Agreement-Kns-Home           15.12.2012   \n",
            "3           228094620-Rental-Agreement           07.07.2013   \n",
            "\n",
            "  Aggrement End Date  Renewal Notice (Days)         Party One  \\\n",
            "0         31.03.2009                     60        Hanumaiah    \n",
            "1         31.03.2011                     30      S.Sakunthala   \n",
            "2         14.11.2013                     30      V.K.NATARAJ    \n",
            "3         06.06.2014                     30   KAPIL MEHROTRA    \n",
            "\n",
            "                                  Party Two  \n",
            "0                          Vishal Bhardwaj   \n",
            "1                             V.V.Ravi Kian  \n",
            "2   VYSHNAVI DAIRY SPECIALITIES Private Ltd  \n",
            "3                               .B.Kishore   \n"
          ]
        },
        {
          "output_type": "stream",
          "name": "stderr",
          "text": [
            "/usr/local/lib/python3.10/dist-packages/sklearn/model_selection/_split.py:700: UserWarning: The least populated class in y has only 1 members, which is less than n_splits=2.\n",
            "  warnings.warn(\n",
            "/usr/local/lib/python3.10/dist-packages/sklearn/model_selection/_validation.py:778: UserWarning: Scoring failed. The score on this train-test partition for these parameters will be set to nan. Details: \n",
            "Traceback (most recent call last):\n",
            "  File \"/usr/local/lib/python3.10/dist-packages/sklearn/model_selection/_validation.py\", line 767, in _score\n",
            "    scores = scorer(estimator, X_test, y_test)\n",
            "  File \"/usr/local/lib/python3.10/dist-packages/sklearn/metrics/_scorer.py\", line 234, in __call__\n",
            "    return self._score(\n",
            "  File \"/usr/local/lib/python3.10/dist-packages/sklearn/metrics/_scorer.py\", line 282, in _score\n",
            "    return self._sign * self._score_func(y_true, y_pred, **self._kwargs)\n",
            "  File \"/usr/local/lib/python3.10/dist-packages/sklearn/metrics/_classification.py\", line 2098, in recall_score\n",
            "    _, r, _, _ = precision_recall_fscore_support(\n",
            "  File \"/usr/local/lib/python3.10/dist-packages/sklearn/metrics/_classification.py\", line 1573, in precision_recall_fscore_support\n",
            "    labels = _check_set_wise_labels(y_true, y_pred, average, labels, pos_label)\n",
            "  File \"/usr/local/lib/python3.10/dist-packages/sklearn/metrics/_classification.py\", line 1382, in _check_set_wise_labels\n",
            "    raise ValueError(\n",
            "ValueError: pos_label=1 is not a valid label. It should be one of [12000, 15000]\n",
            "\n",
            "  warnings.warn(\n",
            "/usr/local/lib/python3.10/dist-packages/sklearn/model_selection/_validation.py:778: UserWarning: Scoring failed. The score on this train-test partition for these parameters will be set to nan. Details: \n",
            "Traceback (most recent call last):\n",
            "  File \"/usr/local/lib/python3.10/dist-packages/sklearn/model_selection/_validation.py\", line 767, in _score\n",
            "    scores = scorer(estimator, X_test, y_test)\n",
            "  File \"/usr/local/lib/python3.10/dist-packages/sklearn/metrics/_scorer.py\", line 234, in __call__\n",
            "    return self._score(\n",
            "  File \"/usr/local/lib/python3.10/dist-packages/sklearn/metrics/_scorer.py\", line 282, in _score\n",
            "    return self._sign * self._score_func(y_true, y_pred, **self._kwargs)\n",
            "  File \"/usr/local/lib/python3.10/dist-packages/sklearn/metrics/_classification.py\", line 2098, in recall_score\n",
            "    _, r, _, _ = precision_recall_fscore_support(\n",
            "  File \"/usr/local/lib/python3.10/dist-packages/sklearn/metrics/_classification.py\", line 1573, in precision_recall_fscore_support\n",
            "    labels = _check_set_wise_labels(y_true, y_pred, average, labels, pos_label)\n",
            "  File \"/usr/local/lib/python3.10/dist-packages/sklearn/metrics/_classification.py\", line 1382, in _check_set_wise_labels\n",
            "    raise ValueError(\n",
            "ValueError: pos_label=1 is not a valid label. It should be one of [12000, 15000]\n",
            "\n",
            "  warnings.warn(\n",
            "/usr/local/lib/python3.10/dist-packages/sklearn/model_selection/_validation.py:778: UserWarning: Scoring failed. The score on this train-test partition for these parameters will be set to nan. Details: \n",
            "Traceback (most recent call last):\n",
            "  File \"/usr/local/lib/python3.10/dist-packages/sklearn/model_selection/_validation.py\", line 767, in _score\n",
            "    scores = scorer(estimator, X_test, y_test)\n",
            "  File \"/usr/local/lib/python3.10/dist-packages/sklearn/metrics/_scorer.py\", line 234, in __call__\n",
            "    return self._score(\n",
            "  File \"/usr/local/lib/python3.10/dist-packages/sklearn/metrics/_scorer.py\", line 282, in _score\n",
            "    return self._sign * self._score_func(y_true, y_pred, **self._kwargs)\n",
            "  File \"/usr/local/lib/python3.10/dist-packages/sklearn/metrics/_classification.py\", line 2098, in recall_score\n",
            "    _, r, _, _ = precision_recall_fscore_support(\n",
            "  File \"/usr/local/lib/python3.10/dist-packages/sklearn/metrics/_classification.py\", line 1573, in precision_recall_fscore_support\n",
            "    labels = _check_set_wise_labels(y_true, y_pred, average, labels, pos_label)\n",
            "  File \"/usr/local/lib/python3.10/dist-packages/sklearn/metrics/_classification.py\", line 1382, in _check_set_wise_labels\n",
            "    raise ValueError(\n",
            "ValueError: pos_label=1 is not a valid label. It should be one of [12000, 15000]\n",
            "\n",
            "  warnings.warn(\n",
            "/usr/local/lib/python3.10/dist-packages/sklearn/model_selection/_validation.py:778: UserWarning: Scoring failed. The score on this train-test partition for these parameters will be set to nan. Details: \n",
            "Traceback (most recent call last):\n",
            "  File \"/usr/local/lib/python3.10/dist-packages/sklearn/model_selection/_validation.py\", line 767, in _score\n",
            "    scores = scorer(estimator, X_test, y_test)\n",
            "  File \"/usr/local/lib/python3.10/dist-packages/sklearn/metrics/_scorer.py\", line 234, in __call__\n",
            "    return self._score(\n",
            "  File \"/usr/local/lib/python3.10/dist-packages/sklearn/metrics/_scorer.py\", line 282, in _score\n",
            "    return self._sign * self._score_func(y_true, y_pred, **self._kwargs)\n",
            "  File \"/usr/local/lib/python3.10/dist-packages/sklearn/metrics/_classification.py\", line 2098, in recall_score\n",
            "    _, r, _, _ = precision_recall_fscore_support(\n",
            "  File \"/usr/local/lib/python3.10/dist-packages/sklearn/metrics/_classification.py\", line 1573, in precision_recall_fscore_support\n",
            "    labels = _check_set_wise_labels(y_true, y_pred, average, labels, pos_label)\n",
            "  File \"/usr/local/lib/python3.10/dist-packages/sklearn/metrics/_classification.py\", line 1382, in _check_set_wise_labels\n",
            "    raise ValueError(\n",
            "ValueError: pos_label=1 is not a valid label. It should be one of [12000, 15000]\n",
            "\n",
            "  warnings.warn(\n",
            "/usr/local/lib/python3.10/dist-packages/sklearn/model_selection/_validation.py:778: UserWarning: Scoring failed. The score on this train-test partition for these parameters will be set to nan. Details: \n",
            "Traceback (most recent call last):\n",
            "  File \"/usr/local/lib/python3.10/dist-packages/sklearn/model_selection/_validation.py\", line 767, in _score\n",
            "    scores = scorer(estimator, X_test, y_test)\n",
            "  File \"/usr/local/lib/python3.10/dist-packages/sklearn/metrics/_scorer.py\", line 234, in __call__\n",
            "    return self._score(\n",
            "  File \"/usr/local/lib/python3.10/dist-packages/sklearn/metrics/_scorer.py\", line 282, in _score\n",
            "    return self._sign * self._score_func(y_true, y_pred, **self._kwargs)\n",
            "  File \"/usr/local/lib/python3.10/dist-packages/sklearn/metrics/_classification.py\", line 2098, in recall_score\n",
            "    _, r, _, _ = precision_recall_fscore_support(\n",
            "  File \"/usr/local/lib/python3.10/dist-packages/sklearn/metrics/_classification.py\", line 1573, in precision_recall_fscore_support\n",
            "    labels = _check_set_wise_labels(y_true, y_pred, average, labels, pos_label)\n",
            "  File \"/usr/local/lib/python3.10/dist-packages/sklearn/metrics/_classification.py\", line 1382, in _check_set_wise_labels\n",
            "    raise ValueError(\n",
            "ValueError: pos_label=1 is not a valid label. It should be one of [12000, 15000]\n",
            "\n",
            "  warnings.warn(\n",
            "/usr/local/lib/python3.10/dist-packages/sklearn/model_selection/_validation.py:778: UserWarning: Scoring failed. The score on this train-test partition for these parameters will be set to nan. Details: \n",
            "Traceback (most recent call last):\n",
            "  File \"/usr/local/lib/python3.10/dist-packages/sklearn/model_selection/_validation.py\", line 767, in _score\n",
            "    scores = scorer(estimator, X_test, y_test)\n",
            "  File \"/usr/local/lib/python3.10/dist-packages/sklearn/metrics/_scorer.py\", line 234, in __call__\n",
            "    return self._score(\n",
            "  File \"/usr/local/lib/python3.10/dist-packages/sklearn/metrics/_scorer.py\", line 282, in _score\n",
            "    return self._sign * self._score_func(y_true, y_pred, **self._kwargs)\n",
            "  File \"/usr/local/lib/python3.10/dist-packages/sklearn/metrics/_classification.py\", line 2098, in recall_score\n",
            "    _, r, _, _ = precision_recall_fscore_support(\n",
            "  File \"/usr/local/lib/python3.10/dist-packages/sklearn/metrics/_classification.py\", line 1573, in precision_recall_fscore_support\n",
            "    labels = _check_set_wise_labels(y_true, y_pred, average, labels, pos_label)\n",
            "  File \"/usr/local/lib/python3.10/dist-packages/sklearn/metrics/_classification.py\", line 1382, in _check_set_wise_labels\n",
            "    raise ValueError(\n",
            "ValueError: pos_label=1 is not a valid label. It should be one of [12000, 15000]\n",
            "\n",
            "  warnings.warn(\n",
            "/usr/local/lib/python3.10/dist-packages/sklearn/model_selection/_validation.py:778: UserWarning: Scoring failed. The score on this train-test partition for these parameters will be set to nan. Details: \n",
            "Traceback (most recent call last):\n",
            "  File \"/usr/local/lib/python3.10/dist-packages/sklearn/model_selection/_validation.py\", line 767, in _score\n",
            "    scores = scorer(estimator, X_test, y_test)\n",
            "  File \"/usr/local/lib/python3.10/dist-packages/sklearn/metrics/_scorer.py\", line 234, in __call__\n",
            "    return self._score(\n",
            "  File \"/usr/local/lib/python3.10/dist-packages/sklearn/metrics/_scorer.py\", line 282, in _score\n",
            "    return self._sign * self._score_func(y_true, y_pred, **self._kwargs)\n",
            "  File \"/usr/local/lib/python3.10/dist-packages/sklearn/metrics/_classification.py\", line 2098, in recall_score\n",
            "    _, r, _, _ = precision_recall_fscore_support(\n",
            "  File \"/usr/local/lib/python3.10/dist-packages/sklearn/metrics/_classification.py\", line 1573, in precision_recall_fscore_support\n",
            "    labels = _check_set_wise_labels(y_true, y_pred, average, labels, pos_label)\n",
            "  File \"/usr/local/lib/python3.10/dist-packages/sklearn/metrics/_classification.py\", line 1382, in _check_set_wise_labels\n",
            "    raise ValueError(\n",
            "ValueError: pos_label=1 is not a valid label. It should be one of [12000, 15000]\n",
            "\n",
            "  warnings.warn(\n",
            "/usr/local/lib/python3.10/dist-packages/sklearn/model_selection/_validation.py:778: UserWarning: Scoring failed. The score on this train-test partition for these parameters will be set to nan. Details: \n",
            "Traceback (most recent call last):\n",
            "  File \"/usr/local/lib/python3.10/dist-packages/sklearn/model_selection/_validation.py\", line 767, in _score\n",
            "    scores = scorer(estimator, X_test, y_test)\n",
            "  File \"/usr/local/lib/python3.10/dist-packages/sklearn/metrics/_scorer.py\", line 234, in __call__\n",
            "    return self._score(\n",
            "  File \"/usr/local/lib/python3.10/dist-packages/sklearn/metrics/_scorer.py\", line 282, in _score\n",
            "    return self._sign * self._score_func(y_true, y_pred, **self._kwargs)\n",
            "  File \"/usr/local/lib/python3.10/dist-packages/sklearn/metrics/_classification.py\", line 2098, in recall_score\n",
            "    _, r, _, _ = precision_recall_fscore_support(\n",
            "  File \"/usr/local/lib/python3.10/dist-packages/sklearn/metrics/_classification.py\", line 1573, in precision_recall_fscore_support\n",
            "    labels = _check_set_wise_labels(y_true, y_pred, average, labels, pos_label)\n",
            "  File \"/usr/local/lib/python3.10/dist-packages/sklearn/metrics/_classification.py\", line 1382, in _check_set_wise_labels\n",
            "    raise ValueError(\n",
            "ValueError: pos_label=1 is not a valid label. It should be one of [12000, 15000]\n",
            "\n",
            "  warnings.warn(\n",
            "/usr/local/lib/python3.10/dist-packages/sklearn/model_selection/_validation.py:778: UserWarning: Scoring failed. The score on this train-test partition for these parameters will be set to nan. Details: \n",
            "Traceback (most recent call last):\n",
            "  File \"/usr/local/lib/python3.10/dist-packages/sklearn/model_selection/_validation.py\", line 767, in _score\n",
            "    scores = scorer(estimator, X_test, y_test)\n",
            "  File \"/usr/local/lib/python3.10/dist-packages/sklearn/metrics/_scorer.py\", line 234, in __call__\n",
            "    return self._score(\n",
            "  File \"/usr/local/lib/python3.10/dist-packages/sklearn/metrics/_scorer.py\", line 282, in _score\n",
            "    return self._sign * self._score_func(y_true, y_pred, **self._kwargs)\n",
            "  File \"/usr/local/lib/python3.10/dist-packages/sklearn/metrics/_classification.py\", line 2098, in recall_score\n",
            "    _, r, _, _ = precision_recall_fscore_support(\n",
            "  File \"/usr/local/lib/python3.10/dist-packages/sklearn/metrics/_classification.py\", line 1573, in precision_recall_fscore_support\n",
            "    labels = _check_set_wise_labels(y_true, y_pred, average, labels, pos_label)\n",
            "  File \"/usr/local/lib/python3.10/dist-packages/sklearn/metrics/_classification.py\", line 1382, in _check_set_wise_labels\n",
            "    raise ValueError(\n",
            "ValueError: pos_label=1 is not a valid label. It should be one of [12000, 15000]\n",
            "\n",
            "  warnings.warn(\n",
            "/usr/local/lib/python3.10/dist-packages/sklearn/metrics/_classification.py:1344: UndefinedMetricWarning: Recall is ill-defined and being set to 0.0 due to no true samples. Use `zero_division` parameter to control this behavior.\n",
            "  _warn_prf(average, modifier, msg_start, len(result))\n",
            "/usr/local/lib/python3.10/dist-packages/sklearn/model_selection/_validation.py:778: UserWarning: Scoring failed. The score on this train-test partition for these parameters will be set to nan. Details: \n",
            "Traceback (most recent call last):\n",
            "  File \"/usr/local/lib/python3.10/dist-packages/sklearn/model_selection/_validation.py\", line 767, in _score\n",
            "    scores = scorer(estimator, X_test, y_test)\n",
            "  File \"/usr/local/lib/python3.10/dist-packages/sklearn/metrics/_scorer.py\", line 234, in __call__\n",
            "    return self._score(\n",
            "  File \"/usr/local/lib/python3.10/dist-packages/sklearn/metrics/_scorer.py\", line 282, in _score\n",
            "    return self._sign * self._score_func(y_true, y_pred, **self._kwargs)\n",
            "  File \"/usr/local/lib/python3.10/dist-packages/sklearn/metrics/_classification.py\", line 2098, in recall_score\n",
            "    _, r, _, _ = precision_recall_fscore_support(\n",
            "  File \"/usr/local/lib/python3.10/dist-packages/sklearn/metrics/_classification.py\", line 1573, in precision_recall_fscore_support\n",
            "    labels = _check_set_wise_labels(y_true, y_pred, average, labels, pos_label)\n",
            "  File \"/usr/local/lib/python3.10/dist-packages/sklearn/metrics/_classification.py\", line 1382, in _check_set_wise_labels\n",
            "    raise ValueError(\n",
            "ValueError: pos_label=1 is not a valid label. It should be one of [12000, 15000]\n",
            "\n",
            "  warnings.warn(\n",
            "/usr/local/lib/python3.10/dist-packages/sklearn/model_selection/_validation.py:778: UserWarning: Scoring failed. The score on this train-test partition for these parameters will be set to nan. Details: \n",
            "Traceback (most recent call last):\n",
            "  File \"/usr/local/lib/python3.10/dist-packages/sklearn/model_selection/_validation.py\", line 767, in _score\n",
            "    scores = scorer(estimator, X_test, y_test)\n",
            "  File \"/usr/local/lib/python3.10/dist-packages/sklearn/metrics/_scorer.py\", line 234, in __call__\n",
            "    return self._score(\n",
            "  File \"/usr/local/lib/python3.10/dist-packages/sklearn/metrics/_scorer.py\", line 282, in _score\n",
            "    return self._sign * self._score_func(y_true, y_pred, **self._kwargs)\n",
            "  File \"/usr/local/lib/python3.10/dist-packages/sklearn/metrics/_classification.py\", line 2098, in recall_score\n",
            "    _, r, _, _ = precision_recall_fscore_support(\n",
            "  File \"/usr/local/lib/python3.10/dist-packages/sklearn/metrics/_classification.py\", line 1573, in precision_recall_fscore_support\n",
            "    labels = _check_set_wise_labels(y_true, y_pred, average, labels, pos_label)\n",
            "  File \"/usr/local/lib/python3.10/dist-packages/sklearn/metrics/_classification.py\", line 1382, in _check_set_wise_labels\n",
            "    raise ValueError(\n",
            "ValueError: pos_label=1 is not a valid label. It should be one of [12000, 15000]\n",
            "\n",
            "  warnings.warn(\n",
            "/usr/local/lib/python3.10/dist-packages/sklearn/model_selection/_validation.py:778: UserWarning: Scoring failed. The score on this train-test partition for these parameters will be set to nan. Details: \n",
            "Traceback (most recent call last):\n",
            "  File \"/usr/local/lib/python3.10/dist-packages/sklearn/model_selection/_validation.py\", line 767, in _score\n",
            "    scores = scorer(estimator, X_test, y_test)\n",
            "  File \"/usr/local/lib/python3.10/dist-packages/sklearn/metrics/_scorer.py\", line 234, in __call__\n",
            "    return self._score(\n",
            "  File \"/usr/local/lib/python3.10/dist-packages/sklearn/metrics/_scorer.py\", line 282, in _score\n",
            "    return self._sign * self._score_func(y_true, y_pred, **self._kwargs)\n",
            "  File \"/usr/local/lib/python3.10/dist-packages/sklearn/metrics/_classification.py\", line 2098, in recall_score\n",
            "    _, r, _, _ = precision_recall_fscore_support(\n",
            "  File \"/usr/local/lib/python3.10/dist-packages/sklearn/metrics/_classification.py\", line 1573, in precision_recall_fscore_support\n",
            "    labels = _check_set_wise_labels(y_true, y_pred, average, labels, pos_label)\n",
            "  File \"/usr/local/lib/python3.10/dist-packages/sklearn/metrics/_classification.py\", line 1382, in _check_set_wise_labels\n",
            "    raise ValueError(\n",
            "ValueError: pos_label=1 is not a valid label. It should be one of [12000, 15000]\n",
            "\n",
            "  warnings.warn(\n",
            "/usr/local/lib/python3.10/dist-packages/sklearn/model_selection/_validation.py:778: UserWarning: Scoring failed. The score on this train-test partition for these parameters will be set to nan. Details: \n",
            "Traceback (most recent call last):\n",
            "  File \"/usr/local/lib/python3.10/dist-packages/sklearn/model_selection/_validation.py\", line 767, in _score\n",
            "    scores = scorer(estimator, X_test, y_test)\n",
            "  File \"/usr/local/lib/python3.10/dist-packages/sklearn/metrics/_scorer.py\", line 234, in __call__\n",
            "    return self._score(\n",
            "  File \"/usr/local/lib/python3.10/dist-packages/sklearn/metrics/_scorer.py\", line 282, in _score\n",
            "    return self._sign * self._score_func(y_true, y_pred, **self._kwargs)\n",
            "  File \"/usr/local/lib/python3.10/dist-packages/sklearn/metrics/_classification.py\", line 2098, in recall_score\n",
            "    _, r, _, _ = precision_recall_fscore_support(\n",
            "  File \"/usr/local/lib/python3.10/dist-packages/sklearn/metrics/_classification.py\", line 1573, in precision_recall_fscore_support\n",
            "    labels = _check_set_wise_labels(y_true, y_pred, average, labels, pos_label)\n",
            "  File \"/usr/local/lib/python3.10/dist-packages/sklearn/metrics/_classification.py\", line 1382, in _check_set_wise_labels\n",
            "    raise ValueError(\n",
            "ValueError: pos_label=1 is not a valid label. It should be one of [12000, 15000]\n",
            "\n",
            "  warnings.warn(\n",
            "/usr/local/lib/python3.10/dist-packages/sklearn/model_selection/_validation.py:778: UserWarning: Scoring failed. The score on this train-test partition for these parameters will be set to nan. Details: \n",
            "Traceback (most recent call last):\n",
            "  File \"/usr/local/lib/python3.10/dist-packages/sklearn/model_selection/_validation.py\", line 767, in _score\n",
            "    scores = scorer(estimator, X_test, y_test)\n",
            "  File \"/usr/local/lib/python3.10/dist-packages/sklearn/metrics/_scorer.py\", line 234, in __call__\n",
            "    return self._score(\n",
            "  File \"/usr/local/lib/python3.10/dist-packages/sklearn/metrics/_scorer.py\", line 282, in _score\n",
            "    return self._sign * self._score_func(y_true, y_pred, **self._kwargs)\n",
            "  File \"/usr/local/lib/python3.10/dist-packages/sklearn/metrics/_classification.py\", line 2098, in recall_score\n",
            "    _, r, _, _ = precision_recall_fscore_support(\n",
            "  File \"/usr/local/lib/python3.10/dist-packages/sklearn/metrics/_classification.py\", line 1573, in precision_recall_fscore_support\n",
            "    labels = _check_set_wise_labels(y_true, y_pred, average, labels, pos_label)\n",
            "  File \"/usr/local/lib/python3.10/dist-packages/sklearn/metrics/_classification.py\", line 1382, in _check_set_wise_labels\n",
            "    raise ValueError(\n",
            "ValueError: pos_label=1 is not a valid label. It should be one of [12000, 15000]\n",
            "\n",
            "  warnings.warn(\n",
            "/usr/local/lib/python3.10/dist-packages/sklearn/model_selection/_validation.py:778: UserWarning: Scoring failed. The score on this train-test partition for these parameters will be set to nan. Details: \n",
            "Traceback (most recent call last):\n",
            "  File \"/usr/local/lib/python3.10/dist-packages/sklearn/model_selection/_validation.py\", line 767, in _score\n",
            "    scores = scorer(estimator, X_test, y_test)\n",
            "  File \"/usr/local/lib/python3.10/dist-packages/sklearn/metrics/_scorer.py\", line 234, in __call__\n",
            "    return self._score(\n",
            "  File \"/usr/local/lib/python3.10/dist-packages/sklearn/metrics/_scorer.py\", line 282, in _score\n",
            "    return self._sign * self._score_func(y_true, y_pred, **self._kwargs)\n",
            "  File \"/usr/local/lib/python3.10/dist-packages/sklearn/metrics/_classification.py\", line 2098, in recall_score\n",
            "    _, r, _, _ = precision_recall_fscore_support(\n",
            "  File \"/usr/local/lib/python3.10/dist-packages/sklearn/metrics/_classification.py\", line 1573, in precision_recall_fscore_support\n",
            "    labels = _check_set_wise_labels(y_true, y_pred, average, labels, pos_label)\n",
            "  File \"/usr/local/lib/python3.10/dist-packages/sklearn/metrics/_classification.py\", line 1382, in _check_set_wise_labels\n",
            "    raise ValueError(\n",
            "ValueError: pos_label=1 is not a valid label. It should be one of [12000, 15000]\n",
            "\n",
            "  warnings.warn(\n",
            "/usr/local/lib/python3.10/dist-packages/sklearn/model_selection/_validation.py:778: UserWarning: Scoring failed. The score on this train-test partition for these parameters will be set to nan. Details: \n",
            "Traceback (most recent call last):\n",
            "  File \"/usr/local/lib/python3.10/dist-packages/sklearn/model_selection/_validation.py\", line 767, in _score\n",
            "    scores = scorer(estimator, X_test, y_test)\n",
            "  File \"/usr/local/lib/python3.10/dist-packages/sklearn/metrics/_scorer.py\", line 234, in __call__\n",
            "    return self._score(\n",
            "  File \"/usr/local/lib/python3.10/dist-packages/sklearn/metrics/_scorer.py\", line 282, in _score\n",
            "    return self._sign * self._score_func(y_true, y_pred, **self._kwargs)\n",
            "  File \"/usr/local/lib/python3.10/dist-packages/sklearn/metrics/_classification.py\", line 2098, in recall_score\n",
            "    _, r, _, _ = precision_recall_fscore_support(\n",
            "  File \"/usr/local/lib/python3.10/dist-packages/sklearn/metrics/_classification.py\", line 1573, in precision_recall_fscore_support\n",
            "    labels = _check_set_wise_labels(y_true, y_pred, average, labels, pos_label)\n",
            "  File \"/usr/local/lib/python3.10/dist-packages/sklearn/metrics/_classification.py\", line 1382, in _check_set_wise_labels\n",
            "    raise ValueError(\n",
            "ValueError: pos_label=1 is not a valid label. It should be one of [12000, 15000]\n",
            "\n",
            "  warnings.warn(\n"
          ]
        },
        {
          "output_type": "stream",
          "name": "stdout",
          "text": [
            "{'max_depth': None, 'n_estimators': 100}\n",
            "Best Hyperparameters: {'max_depth': None, 'n_estimators': 100}\n"
          ]
        },
        {
          "output_type": "stream",
          "name": "stderr",
          "text": [
            "/usr/local/lib/python3.10/dist-packages/sklearn/model_selection/_validation.py:778: UserWarning: Scoring failed. The score on this train-test partition for these parameters will be set to nan. Details: \n",
            "Traceback (most recent call last):\n",
            "  File \"/usr/local/lib/python3.10/dist-packages/sklearn/model_selection/_validation.py\", line 767, in _score\n",
            "    scores = scorer(estimator, X_test, y_test)\n",
            "  File \"/usr/local/lib/python3.10/dist-packages/sklearn/metrics/_scorer.py\", line 234, in __call__\n",
            "    return self._score(\n",
            "  File \"/usr/local/lib/python3.10/dist-packages/sklearn/metrics/_scorer.py\", line 282, in _score\n",
            "    return self._sign * self._score_func(y_true, y_pred, **self._kwargs)\n",
            "  File \"/usr/local/lib/python3.10/dist-packages/sklearn/metrics/_classification.py\", line 2098, in recall_score\n",
            "    _, r, _, _ = precision_recall_fscore_support(\n",
            "  File \"/usr/local/lib/python3.10/dist-packages/sklearn/metrics/_classification.py\", line 1573, in precision_recall_fscore_support\n",
            "    labels = _check_set_wise_labels(y_true, y_pred, average, labels, pos_label)\n",
            "  File \"/usr/local/lib/python3.10/dist-packages/sklearn/metrics/_classification.py\", line 1382, in _check_set_wise_labels\n",
            "    raise ValueError(\n",
            "ValueError: pos_label=1 is not a valid label. It should be one of [12000, 15000]\n",
            "\n",
            "  warnings.warn(\n",
            "/usr/local/lib/python3.10/dist-packages/sklearn/model_selection/_search.py:952: UserWarning: One or more of the test scores are non-finite: [nan nan nan nan nan nan nan nan nan]\n",
            "  warnings.warn(\n"
          ]
        }
      ]
    },
    {
      "cell_type": "code",
      "source": [
        "from sklearn.model_selection import train_test_split\n",
        "from sklearn.feature_extraction.text import TfidfVectorizer\n",
        "from sklearn.linear_model import LogisticRegression\n",
        "from sklearn.metrics import accuracy_score, classification_report\n",
        "import pandas as pd\n",
        "\n",
        "# Load text data from a CSV file\n",
        "df = pd.read_csv(\"train.csv\")\n",
        "\n",
        "# Ensure that the column names are correct and match the DataFrame's column names\n",
        "text_data = df['Party Two'].tolist()\n",
        "labels = df['Aggrement Value'].tolist()\n",
        "\n",
        "# Check the length of text_data and labels\n",
        "print(\"Number of text samples:\", len(text_data))\n",
        "print(\"Number of labels:\", len(labels))\n",
        "\n",
        "# Ensure that each text sample has a corresponding label\n",
        "assert len(text_data) == len(labels), \"Number of text samples and labels must match\"\n",
        "\n",
        "# Splitting data\n",
        "X_train, X_test, y_train, y_test = train_test_split(text_data, labels, test_size=0.2, random_state=42)\n",
        "\n",
        "# Feature extraction using TF-IDF vectorizer\n",
        "vectorizer = TfidfVectorizer(max_features=10000)  # Adjust max_features as needed\n",
        "X_train_tfidf = vectorizer.fit_transform(X_train)\n",
        "X_test_tfidf = vectorizer.transform(X_test)\n",
        "\n",
        "# Initialize and train the classifier\n",
        "classifier = LogisticRegression(max_iter=1000)  # Example classifier, you can choose another one\n",
        "classifier.fit(X_train_tfidf, y_train)\n",
        "\n",
        "# Predictions\n",
        "y_pred = classifier.predict(X_test_tfidf)\n",
        "\n",
        "# Evaluate the model\n",
        "accuracy = accuracy_score(y_test, y_pred)\n",
        "print(\"Accuracy:\", accuracy)\n",
        "\n",
        "# Print classification report\n",
        "print(\"Classification Report:\")\n",
        "print(classification_report(y_test, y_pred))\n"
      ],
      "metadata": {
        "colab": {
          "base_uri": "https://localhost:8080/"
        },
        "id": "v6sHvqfMLZ6t",
        "outputId": "3bb3e0d4-8817-4f58-fc97-da7fb303d810"
      },
      "execution_count": null,
      "outputs": [
        {
          "output_type": "stream",
          "name": "stdout",
          "text": [
            "Number of text samples: 10\n",
            "Number of labels: 10\n",
            "Accuracy: 0.5\n",
            "Classification Report:\n",
            "              precision    recall  f1-score   support\n",
            "\n",
            "        3800       0.00      0.00      0.00         0\n",
            "        6500       1.00      1.00      1.00         1\n",
            "        8000       0.00      0.00      0.00         1\n",
            "\n",
            "    accuracy                           0.50         2\n",
            "   macro avg       0.33      0.33      0.33         2\n",
            "weighted avg       0.50      0.50      0.50         2\n",
            "\n"
          ]
        },
        {
          "output_type": "stream",
          "name": "stderr",
          "text": [
            "/usr/local/lib/python3.10/dist-packages/sklearn/metrics/_classification.py:1344: UndefinedMetricWarning: Precision and F-score are ill-defined and being set to 0.0 in labels with no predicted samples. Use `zero_division` parameter to control this behavior.\n",
            "  _warn_prf(average, modifier, msg_start, len(result))\n",
            "/usr/local/lib/python3.10/dist-packages/sklearn/metrics/_classification.py:1344: UndefinedMetricWarning: Recall and F-score are ill-defined and being set to 0.0 in labels with no true samples. Use `zero_division` parameter to control this behavior.\n",
            "  _warn_prf(average, modifier, msg_start, len(result))\n",
            "/usr/local/lib/python3.10/dist-packages/sklearn/metrics/_classification.py:1344: UndefinedMetricWarning: Precision and F-score are ill-defined and being set to 0.0 in labels with no predicted samples. Use `zero_division` parameter to control this behavior.\n",
            "  _warn_prf(average, modifier, msg_start, len(result))\n",
            "/usr/local/lib/python3.10/dist-packages/sklearn/metrics/_classification.py:1344: UndefinedMetricWarning: Recall and F-score are ill-defined and being set to 0.0 in labels with no true samples. Use `zero_division` parameter to control this behavior.\n",
            "  _warn_prf(average, modifier, msg_start, len(result))\n",
            "/usr/local/lib/python3.10/dist-packages/sklearn/metrics/_classification.py:1344: UndefinedMetricWarning: Precision and F-score are ill-defined and being set to 0.0 in labels with no predicted samples. Use `zero_division` parameter to control this behavior.\n",
            "  _warn_prf(average, modifier, msg_start, len(result))\n",
            "/usr/local/lib/python3.10/dist-packages/sklearn/metrics/_classification.py:1344: UndefinedMetricWarning: Recall and F-score are ill-defined and being set to 0.0 in labels with no true samples. Use `zero_division` parameter to control this behavior.\n",
            "  _warn_prf(average, modifier, msg_start, len(result))\n"
          ]
        }
      ]
    },
    {
      "cell_type": "code",
      "source": [
        "# STEP4: EVALUATING MODEL\n",
        "\n",
        "# Assuming you have the ground truth metadata and predicted metadata as lists or dictionaries\n",
        "# Example ground truth metadata\n",
        "ground_truth_metadata = {\n",
        "    'Agreement Value': [9000.0, 12000.0, 15000.0],\n",
        "    'Agreement Start Date': ['01-04-2010', '01-04-2008', '07-07-2013'],\n",
        "    # Add other fields...\n",
        "}\n",
        "\n",
        "#Eample predicted metadata\n",
        "predicted_metadata = {\n",
        "    'Agreement Value': [10000.0, 12000.0, 20000.],  # Example predictions\n",
        "    'Agreement Start Date': ['01-04-2010', '01-04-2008', '07-07-2013'],  # Example predictions\n",
        "    # Add other fields...\n",
        "}\n",
        "\n",
        "# Calculate per-field recall for each metadata field\n",
        "per_field_recall = {}\n",
        "for field in ground_truth_metadata.keys():\n",
        "    true_positives = 0\n",
        "    false_negatives = 0\n",
        "    for true_value, pred_value in zip(ground_truth_metadata[field], predicted_metadata[field]):\n",
        "        if true_value == pred_value:\n",
        "            true_positives += 1\n",
        "        else:\n",
        "            false_negatives += 1\n",
        "    recall = true_positives / (true_positives + false_negatives) if true_positives + false_negatives > 0 else 0\n",
        "    per_field_recall[field] = recall\n",
        "\n",
        "# Print per-field recall scores\n",
        "for field, recall in per_field_recall.items():\n",
        "    print(f'Per-field Recall for {field}: {recall}')\n"
      ],
      "metadata": {
        "colab": {
          "base_uri": "https://localhost:8080/"
        },
        "id": "PnQOzMtKwCyb",
        "outputId": "95c27c22-57ad-4c8e-b414-2cd03ff4a8fc"
      },
      "execution_count": null,
      "outputs": [
        {
          "output_type": "stream",
          "name": "stdout",
          "text": [
            "Per-field Recall for Agreement Value: 0.3333333333333333\n",
            "Per-field Recall for Agreement Start Date: 1.0\n"
          ]
        }
      ]
    },
    {
      "cell_type": "code",
      "source": [
        "# STEP5: RESULTFUL WEB SERVICE\n",
        "\n",
        "from flask import Flask, request, jsonify\n",
        "from sklearn.model_selection import train_test_split\n",
        "from sklearn.feature_extraction.text import TfidfVectorizer\n",
        "from sklearn.linear_model import LogisticRegression\n",
        "from sklearn.metrics import accuracy_score, classification_report\n",
        "import pandas as pd\n",
        "\n",
        "# Load and preprocess the data\n",
        "df = pd.read_csv(\"train.csv\")\n",
        "text_data = df['Party Two'].tolist()\n",
        "labels = df['Aggrement Value'].tolist()\n",
        "\n",
        "# Ensure that each text sample has a corresponding label\n",
        "assert len(text_data) == len(labels), \"Number of text samples and labels must match\"\n",
        "\n",
        "# Split the data\n",
        "X_train, X_test, y_train, y_test = train_test_split(text_data, labels, test_size=0.2, random_state=42)\n",
        "\n",
        "# Feature extraction using TF-IDF vectorizer\n",
        "vectorizer = TfidfVectorizer(max_features=10000)  # Adjust max_features as needed\n",
        "X_train_tfidf = vectorizer.fit_transform(X_train)\n",
        "X_test_tfidf = vectorizer.transform(X_test)\n",
        "\n",
        "# Initialize and train the classifier\n",
        "classifier = LogisticRegression(max_iter=1000)  # Example classifier, you can choose another one\n",
        "classifier.fit(X_train_tfidf, y_train)\n",
        "\n",
        "# Initialize Flask app\n",
        "app = Flask(__name__)\n",
        "\n",
        "# Define a route for the prediction endpoint\n",
        "@app.route('/predict', methods=['POST'])\n",
        "def predict():\n",
        "    # Get the text data from the request\n",
        "    data = request.json['data']\n",
        "\n",
        "    # Perform feature extraction\n",
        "    data_tfidf = vectorizer.transform(data)\n",
        "\n",
        "    # Make predictions\n",
        "    predictions = classifier.predict(data_tfidf)\n",
        "\n",
        "    # Return the predictions as JSON\n",
        "    return jsonify({'predictions': predictions.tolist()})\n",
        "\n",
        "if __name__ == '__main__':\n",
        "    app.run(debug=True)\n"
      ],
      "metadata": {
        "colab": {
          "base_uri": "https://localhost:8080/"
        },
        "id": "vWpxIciMOiDB",
        "outputId": "a32c2915-7916-488e-8bd2-6de61ba99f64"
      },
      "execution_count": null,
      "outputs": [
        {
          "output_type": "stream",
          "name": "stdout",
          "text": [
            " * Serving Flask app '__main__'\n",
            " * Debug mode: on\n"
          ]
        },
        {
          "output_type": "stream",
          "name": "stderr",
          "text": [
            "INFO:werkzeug:\u001b[31m\u001b[1mWARNING: This is a development server. Do not use it in a production deployment. Use a production WSGI server instead.\u001b[0m\n",
            " * Running on http://127.0.0.1:5000\n",
            "INFO:werkzeug:\u001b[33mPress CTRL+C to quit\u001b[0m\n",
            "INFO:werkzeug: * Restarting with stat\n"
          ]
        }
      ]
    }
  ]
}